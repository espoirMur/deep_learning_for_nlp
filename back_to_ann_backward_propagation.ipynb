{
 "cells": [
  {
   "cell_type": "markdown",
   "metadata": {},
   "source": [
    "Before diving into implementing Backward propagation trought time, I decided to implement first backward propagation and then go to the step where we can implement it thought time.\n",
    "\n",
    "I will be using [this](https://blog.zhaytam.com/2018/08/15/implement-neural-network-backpropagation/) tutorial and the any other ressource I will find on the internet."
   ]
  },
  {
   "cell_type": "code",
   "execution_count": 1,
   "metadata": {},
   "outputs": [],
   "source": [
    "import numpy as np\n",
    "np.random.seed(42)"
   ]
  },
  {
   "cell_type": "code",
   "execution_count": 2,
   "metadata": {},
   "outputs": [],
   "source": [
    "class Layer:\n",
    "    \"\"\"\n",
    "    represent a layer of our neural network\n",
    "    \"\"\"\n",
    "    \n",
    "    def __init__(self, n_input, neurons, weights=None, biais=None, activation=None):\n",
    "        \"\"\"\n",
    "        n_input : the numbers of input we pass to our network\n",
    "        neurons : the numbers of neurons in this layer\n",
    "        weights : the layer weights\n",
    "        biais   : the layer bias\n",
    "        \n",
    "        \"\"\"\n",
    "        self.weights = weights if weights else np.random.rand(n_input, neurons)\n",
    "        self.biais = biais if biais else np.random.rand(neurons)\n",
    "        self.activation = activation"
   ]
  },
  {
   "cell_type": "code",
   "execution_count": 3,
   "metadata": {},
   "outputs": [],
   "source": [
    "hidden_layer_1 = Layer(3, 4)"
   ]
  },
  {
   "cell_type": "code",
   "execution_count": 4,
   "metadata": {},
   "outputs": [
    {
     "data": {
      "text/plain": [
       "dtype('float64')"
      ]
     },
     "execution_count": 4,
     "metadata": {},
     "output_type": "execute_result"
    }
   ],
   "source": [
    "hidden_layer_1.weights.dtype"
   ]
  },
  {
   "cell_type": "code",
   "execution_count": 5,
   "metadata": {},
   "outputs": [
    {
     "data": {
      "text/plain": [
       "array([0.83244264, 0.21233911, 0.18182497, 0.18340451])"
      ]
     },
     "execution_count": 5,
     "metadata": {},
     "output_type": "execute_result"
    }
   ],
   "source": [
    "hidden_layer_1.biais"
   ]
  },
  {
   "cell_type": "markdown",
   "metadata": {},
   "source": [
    "####  Activation"
   ]
  },
  {
   "cell_type": "markdown",
   "metadata": {},
   "source": [
    "Apply the following activation function to the code :\n",
    "\n",
    "$\\sigma(X*W +B)$"
   ]
  },
  {
   "cell_type": "code",
   "execution_count": 6,
   "metadata": {},
   "outputs": [],
   "source": [
    "def activate(self, x):\n",
    "    z = np.dot(x, self.weights) + self.biais\n",
    "    self.last_activation = self._apply_activation(z)\n",
    "    return self.last_activation"
   ]
  },
  {
   "cell_type": "code",
   "execution_count": 7,
   "metadata": {},
   "outputs": [],
   "source": [
    "Layer.activate = activate"
   ]
  },
  {
   "cell_type": "code",
   "execution_count": 8,
   "metadata": {},
   "outputs": [],
   "source": [
    "def _apply_activation(self, normal):\n",
    "    \"\"\"\n",
    "    apply the activation function to the value pass in parameter\n",
    "    \"\"\"\n",
    "    if self.activation is None:\n",
    "        return normal\n",
    "    elif self.activation == 'tanh':\n",
    "        return np.tanh(normal)\n",
    "    elif self.activation == 'sigmoid':\n",
    "        return 1 / (1 + np.exp(normal))\n",
    "    ### what happen to relu?\n",
    "    return normal\n",
    "    "
   ]
  },
  {
   "cell_type": "code",
   "execution_count": 9,
   "metadata": {},
   "outputs": [],
   "source": [
    "Layer._apply_activation = _apply_activation"
   ]
  },
  {
   "cell_type": "code",
   "execution_count": 10,
   "metadata": {},
   "outputs": [
    {
     "data": {
      "text/plain": [
       "array([3.32236508, 3.59926019, 1.09173962, 5.42414484])"
      ]
     },
     "execution_count": 10,
     "metadata": {},
     "output_type": "execute_result"
    }
   ],
   "source": [
    "hidden_layer_1.activate(np.array([1, 2, 3]))"
   ]
  },
  {
   "cell_type": "markdown",
   "metadata": {},
   "source": [
    "Let us add our layers to our network and build it"
   ]
  },
  {
   "cell_type": "code",
   "execution_count": 11,
   "metadata": {},
   "outputs": [],
   "source": [
    "class NeuralNetwork:\n",
    "    \"\"\"\n",
    "    represent a neural network\n",
    "    \"\"\"\n",
    "    def __init__(self):\n",
    "        self.layers = []\n",
    "    \n",
    "    def add_layer(self, layer):\n",
    "        \"\"\"\n",
    "        add a layer to the network\n",
    "        layer : the layer to add to the network\n",
    "        \"\"\"\n",
    "        self.layers.append(layer)\n",
    "    \n",
    "    def feed_foward(self, X):\n",
    "        for layer in self.layers:\n",
    "            X = layer.activate(X)\n",
    "        return X\n",
    "    \n",
    "    def predict(self, X):\n",
    "        \"\"\"\n",
    "        predict a class or class for multi ouput\n",
    "        \"\"\"\n",
    "        \n",
    "        outputs = self.feed_foward(X)\n",
    "        \n",
    "        if outputs.ndim == 1:\n",
    "            return np.argmax(outputs)\n",
    "        return np.argmax(outputs, axis=1)"
   ]
  },
  {
   "cell_type": "code",
   "execution_count": 12,
   "metadata": {},
   "outputs": [],
   "source": [
    "the_network = NeuralNetwork()"
   ]
  },
  {
   "cell_type": "code",
   "execution_count": 13,
   "metadata": {},
   "outputs": [],
   "source": [
    "the_network.add_layer(Layer(2, 3, activation='tanh'))\n",
    "the_network.add_layer(Layer(3, 3, activation='sigmoid'))\n",
    "the_network.add_layer(Layer(3, 2, activation='sigmoid'))"
   ]
  },
  {
   "cell_type": "markdown",
   "metadata": {},
   "source": [
    "Let try to see how our network predict a binary operation"
   ]
  },
  {
   "cell_type": "code",
   "execution_count": 14,
   "metadata": {},
   "outputs": [
    {
     "data": {
      "text/plain": [
       "array([1, 1, 1, 1])"
      ]
     },
     "execution_count": 14,
     "metadata": {},
     "output_type": "execute_result"
    }
   ],
   "source": [
    "the_network.predict(np.array([[0, 0], [0, 1], [1, 0], [1, 1]]))"
   ]
  },
  {
   "cell_type": "code",
   "execution_count": 15,
   "metadata": {},
   "outputs": [
    {
     "data": {
      "text/plain": [
       "(3, 4)"
      ]
     },
     "execution_count": 15,
     "metadata": {},
     "output_type": "execute_result"
    }
   ],
   "source": [
    "hidden_layer_1.weights.shape"
   ]
  },
  {
   "cell_type": "code",
   "execution_count": 16,
   "metadata": {},
   "outputs": [
    {
     "data": {
      "text/plain": [
       "array([[1, 2, 3]])"
      ]
     },
     "execution_count": 16,
     "metadata": {},
     "output_type": "execute_result"
    }
   ],
   "source": [
    "np.array([[1, 2, 3]])"
   ]
  },
  {
   "cell_type": "code",
   "execution_count": 17,
   "metadata": {},
   "outputs": [
    {
     "data": {
      "text/plain": [
       "array([[2.48992243, 3.38692108, 0.90991465, 5.24074033]])"
      ]
     },
     "execution_count": 17,
     "metadata": {},
     "output_type": "execute_result"
    }
   ],
   "source": [
    "np.dot(np.array([[1, 2, 3]]), hidden_layer_1.weights)"
   ]
  },
  {
   "cell_type": "markdown",
   "metadata": {},
   "source": [
    "### Training Phase and Backward Propagation"
   ]
  },
  {
   "cell_type": "markdown",
   "metadata": {},
   "source": [
    "Let define a function that calculated sigmoid derivate"
   ]
  },
  {
   "cell_type": "code",
   "execution_count": 18,
   "metadata": {},
   "outputs": [],
   "source": [
    "def apply_activation_derivative(self, r):\n",
    "    \"\"\"\n",
    "    Applies the derivative of the activation function (if any).\n",
    "    :param r: The normal value.\n",
    "    :return: The \"derived\" value.\n",
    "    \"\"\"\n",
    "\n",
    "    # We use 'r' directly here because its already activated, the only values that\n",
    "    # are used in this function are the last activations that were saved.\n",
    "\n",
    "    if self.activation is None:\n",
    "        return r\n",
    "\n",
    "    if self.activation == 'tanh':\n",
    "        return 1 - r ** 2\n",
    "\n",
    "    if self.activation == 'sigmoid':\n",
    "        return r * (1 - r)\n",
    "\n",
    "    return r"
   ]
  },
  {
   "cell_type": "code",
   "execution_count": 19,
   "metadata": {},
   "outputs": [],
   "source": [
    "Layer.apply_activation_derivative = apply_activation_derivative"
   ]
  },
  {
   "cell_type": "code",
   "execution_count": 21,
   "metadata": {},
   "outputs": [],
   "source": [
    "def sigmoid(z):\n",
    "    \"\"\"The sigmoid function.\"\"\"\n",
    "    return 1.0/(1.0+np.exp(-z))\n",
    "\n",
    "def sigmoid_prime(z):\n",
    "    \"\"\"Derivative of the sigmoid function.\"\"\"\n",
    "    return sigmoid(z)*(1-sigmoid(z))"
   ]
  },
  {
   "cell_type": "markdown",
   "metadata": {},
   "source": [
    "This implementation comes from this book on chapter 2 http://neuralnetworksanddeeplearning.com/chap2.html, for the intution and the algorithms calculation but the implementation comes from the same tutorials."
   ]
  },
  {
   "cell_type": "code",
   "execution_count": 22,
   "metadata": {},
   "outputs": [],
   "source": [
    "def back_propagate(self, X, y, learning_rate):\n",
    "    \"\"\"\n",
    "    Performs the backward propagation algorithm and updates the layers weights.\n",
    "    :param X: The input values.\n",
    "    :param y: The target values.\n",
    "    :param float learning_rate: The learning rate (between 0 and 1).\n",
    "    \"\"\"\n",
    "    output = self.feed_foward(X)\n",
    "    for i in reversed(range(len(self.layers))):\n",
    "        layer = self.layers[i]\n",
    "        if layer == self.layers[-1]: # if we are at the output\n",
    "            error = y - output\n",
    "            layer.delta = error * layer.apply_activation_derivative(output)\n",
    "        else :\n",
    "            next_layer =  self.layers[i+1] # layer i+1\n",
    "            layer.error = np.dot(next_layer.weights, next_layer.delta)\n",
    "            layer.delta = layer.error * layer.apply_activation_derivative(layer.last_activation)\n",
    "    for i, layer in enumerate(self.layers):\n",
    "        # we use X is we are at the first layer\n",
    "        input_to_use = np.atleast_2d(X if i == 0 else self.layers[i - 1].last_activation) # Z\n",
    "        layer.weights += layer.delta * input_to_use.T * learning_rate"
   ]
  },
  {
   "cell_type": "code",
   "execution_count": 23,
   "metadata": {},
   "outputs": [],
   "source": [
    "NeuralNetwork.back_propagate = back_propagate"
   ]
  },
  {
   "cell_type": "code",
   "execution_count": 24,
   "metadata": {},
   "outputs": [],
   "source": [
    "def train(self, X, y, learning_rate, max_epochs):\n",
    "    \"\"\"\n",
    "    Trains the neural network using backpropagation.\n",
    "    :param X: The input values.\n",
    "    :param y: The target values.\n",
    "    :param float learning_rate: The learning rate (between 0 and 1).\n",
    "    :param int max_epochs: The maximum number of epochs (cycles).\n",
    "    :return: The list of calculated MSE errors.\n",
    "    \"\"\"\n",
    "\n",
    "    mses = []\n",
    "\n",
    "    for i in range(max_epochs):\n",
    "        for j in range(len(X)):\n",
    "            self.back_propagate(X[j], y[j], learning_rate)\n",
    "        if i % 10 == 0:\n",
    "            mse = np.mean(np.square(y - self.feed_foward(X)))\n",
    "            mses.append(mse)\n",
    "            print('Epoch: #%s, MSE: %f' % (i, float(mse)))\n",
    "\n",
    "    return mses"
   ]
  },
  {
   "cell_type": "code",
   "execution_count": 25,
   "metadata": {},
   "outputs": [],
   "source": [
    "@staticmethod\n",
    "def accuracy(y_pred, y_true):\n",
    "    \"\"\"\n",
    "    Calculates the accuracy between the predicted labels and true labels.\n",
    "    :param y_pred: The predicted labels.\n",
    "    :param y_true: The true labels.\n",
    "    :return: The calculated accuracy.\n",
    "    \"\"\"\n",
    "    return (y_pred == y_true).mean()"
   ]
  },
  {
   "cell_type": "code",
   "execution_count": 26,
   "metadata": {},
   "outputs": [],
   "source": [
    "NeuralNetwork.train = train"
   ]
  },
  {
   "cell_type": "code",
   "execution_count": 27,
   "metadata": {},
   "outputs": [],
   "source": [
    "NeuralNetwork.accuracy = accuracy"
   ]
  },
  {
   "cell_type": "code",
   "execution_count": 28,
   "metadata": {},
   "outputs": [],
   "source": [
    "my_network = NeuralNetwork()\n",
    "my_network.add_layer(Layer(2, 3, activation='tanh'))\n",
    "my_network.add_layer(Layer(3, 3, activation='sigmoid'))\n",
    "my_network.add_layer(Layer(3, 2, activation='sigmoid'))"
   ]
  },
  {
   "cell_type": "code",
   "execution_count": 29,
   "metadata": {},
   "outputs": [],
   "source": [
    "X = np.array([[0, 0], [0, 1], [1, 0], [1, 1]])\n",
    "y = np.array([[0], [0], [0], [1]])"
   ]
  },
  {
   "cell_type": "code",
   "execution_count": 39,
   "metadata": {},
   "outputs": [
    {
     "name": "stdout",
     "output_type": "stream",
     "text": [
      "Epoch: #0, MSE: 0.221156\n",
      "Epoch: #10, MSE: 0.221143\n",
      "Epoch: #20, MSE: 0.221131\n",
      "Epoch: #30, MSE: 0.221119\n",
      "Epoch: #40, MSE: 0.221107\n",
      "Epoch: #50, MSE: 0.221095\n",
      "Epoch: #60, MSE: 0.221084\n",
      "Epoch: #70, MSE: 0.221073\n",
      "Epoch: #80, MSE: 0.221062\n",
      "Epoch: #90, MSE: 0.221052\n",
      "Epoch: #100, MSE: 0.221041\n",
      "Epoch: #110, MSE: 0.221031\n",
      "Epoch: #120, MSE: 0.221021\n",
      "Epoch: #130, MSE: 0.221011\n",
      "Epoch: #140, MSE: 0.221002\n",
      "Epoch: #150, MSE: 0.220992\n",
      "Epoch: #160, MSE: 0.220983\n",
      "Epoch: #170, MSE: 0.220974\n",
      "Epoch: #180, MSE: 0.220965\n",
      "Epoch: #190, MSE: 0.220957\n",
      "Epoch: #200, MSE: 0.220948\n",
      "Epoch: #210, MSE: 0.220940\n",
      "Epoch: #220, MSE: 0.220931\n",
      "Epoch: #230, MSE: 0.220923\n",
      "Epoch: #240, MSE: 0.220915\n",
      "Epoch: #250, MSE: 0.220907\n",
      "Epoch: #260, MSE: 0.220900\n",
      "Epoch: #270, MSE: 0.220892\n",
      "Epoch: #280, MSE: 0.220885\n",
      "Epoch: #290, MSE: 0.220877\n",
      "Epoch: #300, MSE: 0.220870\n",
      "Epoch: #310, MSE: 0.220863\n",
      "Epoch: #320, MSE: 0.220856\n",
      "Epoch: #330, MSE: 0.220849\n",
      "Epoch: #340, MSE: 0.220843\n",
      "Epoch: #350, MSE: 0.220836\n",
      "Epoch: #360, MSE: 0.220830\n",
      "Epoch: #370, MSE: 0.220823\n",
      "Epoch: #380, MSE: 0.220817\n",
      "Epoch: #390, MSE: 0.220811\n",
      "Epoch: #400, MSE: 0.220805\n",
      "Epoch: #410, MSE: 0.220799\n",
      "Epoch: #420, MSE: 0.220793\n",
      "Epoch: #430, MSE: 0.220787\n",
      "Epoch: #440, MSE: 0.220781\n",
      "Epoch: #450, MSE: 0.220775\n",
      "Epoch: #460, MSE: 0.220770\n",
      "Epoch: #470, MSE: 0.220764\n",
      "Epoch: #480, MSE: 0.220759\n",
      "Epoch: #490, MSE: 0.220754\n",
      "Epoch: #500, MSE: 0.220748\n",
      "Epoch: #510, MSE: 0.220743\n",
      "Epoch: #520, MSE: 0.220738\n",
      "Epoch: #530, MSE: 0.220733\n",
      "Epoch: #540, MSE: 0.220728\n",
      "Epoch: #550, MSE: 0.220723\n",
      "Epoch: #560, MSE: 0.220718\n",
      "Epoch: #570, MSE: 0.220714\n",
      "Epoch: #580, MSE: 0.220709\n",
      "Epoch: #590, MSE: 0.220704\n",
      "Epoch: #600, MSE: 0.220700\n",
      "Epoch: #610, MSE: 0.220695\n",
      "Epoch: #620, MSE: 0.220691\n",
      "Epoch: #630, MSE: 0.220686\n",
      "Epoch: #640, MSE: 0.220682\n",
      "Epoch: #650, MSE: 0.220678\n",
      "Epoch: #660, MSE: 0.220673\n",
      "Epoch: #670, MSE: 0.220669\n",
      "Epoch: #680, MSE: 0.220665\n",
      "Epoch: #690, MSE: 0.220661\n",
      "Epoch: #700, MSE: 0.220657\n",
      "Epoch: #710, MSE: 0.220653\n",
      "Epoch: #720, MSE: 0.220649\n",
      "Epoch: #730, MSE: 0.220645\n",
      "Epoch: #740, MSE: 0.220641\n",
      "Epoch: #750, MSE: 0.220638\n",
      "Epoch: #760, MSE: 0.220634\n",
      "Epoch: #770, MSE: 0.220630\n",
      "Epoch: #780, MSE: 0.220626\n",
      "Epoch: #790, MSE: 0.220623\n",
      "Epoch: #800, MSE: 0.220619\n",
      "Epoch: #810, MSE: 0.220616\n",
      "Epoch: #820, MSE: 0.220612\n",
      "Epoch: #830, MSE: 0.220609\n",
      "Epoch: #840, MSE: 0.220605\n",
      "Epoch: #850, MSE: 0.220602\n",
      "Epoch: #860, MSE: 0.220599\n",
      "Epoch: #870, MSE: 0.220596\n",
      "Epoch: #880, MSE: 0.220592\n",
      "Epoch: #890, MSE: 0.220589\n",
      "Epoch: #900, MSE: 0.220586\n",
      "Epoch: #910, MSE: 0.220583\n",
      "Epoch: #920, MSE: 0.220580\n",
      "Epoch: #930, MSE: 0.220577\n",
      "Epoch: #940, MSE: 0.220574\n",
      "Epoch: #950, MSE: 0.220571\n",
      "Epoch: #960, MSE: 0.220568\n",
      "Epoch: #970, MSE: 0.220565\n",
      "Epoch: #980, MSE: 0.220562\n",
      "Epoch: #990, MSE: 0.220559\n",
      "Accuracy: 75.00%\n"
     ]
    }
   ],
   "source": [
    "# Train the neural network\n",
    "errors = my_network.train(X, y, 0.5, 1000)\n",
    "accuracy = my_network.accuracy(my_network.predict(X), y.flatten())*100\n",
    "print('Accuracy: %.2f%%' % accuracy)"
   ]
  },
  {
   "cell_type": "code",
   "execution_count": 40,
   "metadata": {},
   "outputs": [],
   "source": [
    "import matplotlib.pyplot as plt"
   ]
  },
  {
   "cell_type": "code",
   "execution_count": 41,
   "metadata": {},
   "outputs": [
    {
     "data": {
      "image/png": "[encoded data removed]",
      "text/plain": [
       "<Figure size 432x288 with 1 Axes>"
      ]
     },
     "metadata": {
      "needs_background": "light"
     },
     "output_type": "display_data"
    }
   ],
   "source": [
    "# Plot changes in mse\n",
    "plt.plot(errors)\n",
    "plt.title('Changes in MSE')\n",
    "plt.xlabel('Epoch (every 10th)')\n",
    "plt.ylabel('MSE')\n",
    "plt.show()"
   ]
  },
  {
   "cell_type": "markdown",
   "metadata": {},
   "source": [
    "F*********k , \n",
    "it's increseaing instead of descresasing, let  me take a break and come back to this later"
   ]
  },
  {
   "cell_type": "markdown",
   "metadata": {},
   "source": [
    "It's decreasing but not very well"
   ]
  },
  {
   "cell_type": "code",
   "execution_count": null,
   "metadata": {},
   "outputs": [],
   "source": []
  }
 ],
 "metadata": {
  "kernelspec": {
   "display_name": "Python 3",
   "language": "python",
   "name": "python3"
  },
  "language_info": {
   "codemirror_mode": {
    "name": "ipython",
    "version": 3
   },
   "file_extension": ".py",
   "mimetype": "text/x-python",
   "name": "python",
   "nbconvert_exporter": "python",
   "pygments_lexer": "ipython3",
   "version": "3.6.5"
  }
 },
 "nbformat": 4,
 "nbformat_minor": 4
}
