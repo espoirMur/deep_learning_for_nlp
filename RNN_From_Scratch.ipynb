{
 "cells": [
  {
   "cell_type": "markdown",
   "metadata": {},
   "source": [
    "Next Word in a sentence prediction Using RNN"
   ]
  },
  {
   "cell_type": "markdown",
   "metadata": {},
   "source": [
    "In this notebook we will go to the process of reading a text file and come up with input and output for a RNN network, next day we will see how to use the model to predict the next word in the sentence."
   ]
  },
  {
   "cell_type": "markdown",
   "metadata": {},
   "source": [
    "I will be using [this tutorial](https://machinelearningmastery.com/how-to-develop-a-word-level-neural-language-model-in-keras/)."
   ]
  },
  {
   "cell_type": "markdown",
   "metadata": {},
   "source": [
    "### I step : Load the text"
   ]
  },
  {
   "cell_type": "code",
   "execution_count": 1,
   "metadata": {},
   "outputs": [],
   "source": [
    "import numpy as np"
   ]
  },
  {
   "cell_type": "code",
   "execution_count": 2,
   "metadata": {},
   "outputs": [],
   "source": [
    "def load_document(path):\n",
    "    \"\"\"\n",
    "    load the document at the given path\n",
    "    \"\"\"\n",
    "    with open(path, 'r') as file:\n",
    "        text = file.read()\n",
    "        return text      "
   ]
  },
  {
   "cell_type": "code",
   "execution_count": 3,
   "metadata": {
    "scrolled": true
   },
   "outputs": [
    {
     "name": "stdout",
     "output_type": "stream",
     "text": [
      "﻿BOOK I.\n",
      "\n",
      "I went down yesterday to the Piraeus with Glaucon the son of Ariston,\n",
      "that I might offer up my prayers to the goddess (Bendis, the Thracian\n",
      "Artemis.); and also because I wanted to see in what\n"
     ]
    }
   ],
   "source": [
    "doc = load_document('./data/republic_clean.txt')\n",
    "print(doc[:201])"
   ]
  },
  {
   "cell_type": "markdown",
   "metadata": {},
   "source": [
    "### II Step clean the text : "
   ]
  },
  {
   "cell_type": "markdown",
   "metadata": {},
   "source": [
    "Cleaning the text is the most important part of any NLP task, is to clean the text, it envolves spliting the text into sentence and sentences into tokens,removing puncuactions and stop word., NLTK library is good at this but let use raw pyhton and string method."
   ]
  },
  {
   "cell_type": "markdown",
   "metadata": {},
   "source": [
    "We use a translation table to remove punctuaction from each token."
   ]
  },
  {
   "cell_type": "code",
   "execution_count": 4,
   "metadata": {},
   "outputs": [],
   "source": [
    "import string\n",
    "\n",
    "def clean_document(doc):\n",
    "    \"\"\"\n",
    "    Clean the document pass in parameter.\n",
    "    \"\"\"\n",
    "    doc = doc.replace('--', ' ')\n",
    "    tokens = doc.split()\n",
    "    table = str.maketrans('', '', string.punctuation)\n",
    "    tokens = [w.translate(table) for w in tokens]\n",
    "    tokens = [word for word in tokens if word.isalpha()]\n",
    "    tokens = [word.lower() for word in tokens]\n",
    "    return tokens"
   ]
  },
  {
   "cell_type": "code",
   "execution_count": 5,
   "metadata": {},
   "outputs": [
    {
     "name": "stdout",
     "output_type": "stream",
     "text": [
      "['i', 'i', 'went', 'down', 'yesterday', 'to', 'the', 'piraeus', 'with', 'glaucon', 'the', 'son', 'of', 'ariston', 'that', 'i', 'might', 'offer', 'up', 'my', 'prayers', 'to', 'the', 'goddess', 'bendis', 'the', 'thracian', 'artemis', 'and', 'also', 'because', 'i', 'wanted', 'to', 'see', 'in', 'what', 'manner', 'they', 'would', 'celebrate', 'the', 'festival', 'which', 'was', 'a', 'new', 'thing', 'i', 'was', 'delighted', 'with', 'the', 'procession', 'of', 'the', 'inhabitants', 'but', 'that', 'of', 'the', 'thracians', 'was', 'equally', 'if', 'not', 'more', 'beautiful', 'when', 'we', 'had', 'finished', 'our', 'prayers', 'and', 'viewed', 'the', 'spectacle', 'we', 'turned', 'in', 'the', 'direction', 'of', 'the', 'city', 'and', 'at', 'that', 'instant', 'polemarchus', 'the', 'son', 'of', 'cephalus', 'chanced', 'to', 'catch', 'sight', 'of', 'us', 'from', 'a', 'distance', 'as', 'we', 'were', 'starting', 'on', 'our', 'way', 'home', 'and', 'told', 'his', 'servant', 'to', 'run', 'and', 'bid', 'us', 'wait', 'for', 'him', 'the', 'servant', 'took', 'hold', 'of', 'me', 'by', 'the', 'cloak', 'behind', 'and', 'said', 'polemarchus', 'desires', 'you', 'to', 'wait', 'i', 'turned', 'round', 'and', 'asked', 'him', 'where', 'his', 'master', 'was', 'there', 'he', 'is', 'said', 'the', 'youth', 'coming', 'after', 'you', 'if', 'you', 'will', 'only', 'wait', 'certainly', 'we', 'will', 'said', 'glaucon', 'and', 'in', 'a', 'few', 'minutes', 'polemarchus', 'appeared', 'and', 'with', 'him', 'adeimantus', 'glaucons', 'brother', 'niceratus', 'the', 'son', 'of', 'nicias', 'and', 'several', 'others', 'who', 'had', 'been', 'at', 'the', 'procession', 'polemarchus', 'said', 'to', 'me']\n",
      "Total Tokens: 118683\n",
      "Unique Tokens: 7409\n"
     ]
    }
   ],
   "source": [
    "tokens = clean_document(doc)\n",
    "print(tokens[:201])\n",
    "print('Total Tokens: {}'.format(len(tokens)))\n",
    "print('Unique Tokens: {}'.format( len(set(tokens))))"
   ]
  },
  {
   "cell_type": "markdown",
   "metadata": {},
   "source": [
    "At this point we have the whole text splitted into an array of token ,  like 118683 tokens , we need to split it into an array of 51 tokens each why 51 tokens?\n",
    "\n",
    "The first 50 tokens will be our input and the last will be our output....\n",
    "\n",
    "We can do this by iterating over the list of tokens from token 51 onwards and taking the prior 50 tokens as a sequence, then repeating this process to the end of the list of tokens."
   ]
  },
  {
   "cell_type": "code",
   "execution_count": 6,
   "metadata": {},
   "outputs": [
    {
     "name": "stdout",
     "output_type": "stream",
     "text": [
      "total sentences is 118632\n"
     ]
    }
   ],
   "source": [
    "length = 50 + 1\n",
    "sequences = list()\n",
    "#TODO:  but this is ineficient \n",
    "for i in range(length, len(tokens)):\n",
    "    sequence = tokens[i-length:i]\n",
    "    line = ' '.join(sequence)\n",
    "    sequences.append(line)\n",
    "print(\"total sentences is {}\".format(len(sequences)))"
   ]
  },
  {
   "cell_type": "code",
   "execution_count": 7,
   "metadata": {
    "scrolled": false
   },
   "outputs": [
    {
     "data": {
      "text/plain": [
       "['i i went down yesterday to the piraeus with glaucon the son of ariston that i might offer up my prayers to the goddess bendis the thracian artemis and also because i wanted to see in what manner they would celebrate the festival which was a new thing i was delighted',\n",
       " 'i went down yesterday to the piraeus with glaucon the son of ariston that i might offer up my prayers to the goddess bendis the thracian artemis and also because i wanted to see in what manner they would celebrate the festival which was a new thing i was delighted with',\n",
       " 'went down yesterday to the piraeus with glaucon the son of ariston that i might offer up my prayers to the goddess bendis the thracian artemis and also because i wanted to see in what manner they would celebrate the festival which was a new thing i was delighted with the',\n",
       " 'down yesterday to the piraeus with glaucon the son of ariston that i might offer up my prayers to the goddess bendis the thracian artemis and also because i wanted to see in what manner they would celebrate the festival which was a new thing i was delighted with the procession',\n",
       " 'yesterday to the piraeus with glaucon the son of ariston that i might offer up my prayers to the goddess bendis the thracian artemis and also because i wanted to see in what manner they would celebrate the festival which was a new thing i was delighted with the procession of',\n",
       " 'to the piraeus with glaucon the son of ariston that i might offer up my prayers to the goddess bendis the thracian artemis and also because i wanted to see in what manner they would celebrate the festival which was a new thing i was delighted with the procession of the',\n",
       " 'the piraeus with glaucon the son of ariston that i might offer up my prayers to the goddess bendis the thracian artemis and also because i wanted to see in what manner they would celebrate the festival which was a new thing i was delighted with the procession of the inhabitants',\n",
       " 'piraeus with glaucon the son of ariston that i might offer up my prayers to the goddess bendis the thracian artemis and also because i wanted to see in what manner they would celebrate the festival which was a new thing i was delighted with the procession of the inhabitants but',\n",
       " 'with glaucon the son of ariston that i might offer up my prayers to the goddess bendis the thracian artemis and also because i wanted to see in what manner they would celebrate the festival which was a new thing i was delighted with the procession of the inhabitants but that',\n",
       " 'glaucon the son of ariston that i might offer up my prayers to the goddess bendis the thracian artemis and also because i wanted to see in what manner they would celebrate the festival which was a new thing i was delighted with the procession of the inhabitants but that of',\n",
       " 'the son of ariston that i might offer up my prayers to the goddess bendis the thracian artemis and also because i wanted to see in what manner they would celebrate the festival which was a new thing i was delighted with the procession of the inhabitants but that of the',\n",
       " 'son of ariston that i might offer up my prayers to the goddess bendis the thracian artemis and also because i wanted to see in what manner they would celebrate the festival which was a new thing i was delighted with the procession of the inhabitants but that of the thracians',\n",
       " 'of ariston that i might offer up my prayers to the goddess bendis the thracian artemis and also because i wanted to see in what manner they would celebrate the festival which was a new thing i was delighted with the procession of the inhabitants but that of the thracians was',\n",
       " 'ariston that i might offer up my prayers to the goddess bendis the thracian artemis and also because i wanted to see in what manner they would celebrate the festival which was a new thing i was delighted with the procession of the inhabitants but that of the thracians was equally',\n",
       " 'that i might offer up my prayers to the goddess bendis the thracian artemis and also because i wanted to see in what manner they would celebrate the festival which was a new thing i was delighted with the procession of the inhabitants but that of the thracians was equally if',\n",
       " 'i might offer up my prayers to the goddess bendis the thracian artemis and also because i wanted to see in what manner they would celebrate the festival which was a new thing i was delighted with the procession of the inhabitants but that of the thracians was equally if not',\n",
       " 'might offer up my prayers to the goddess bendis the thracian artemis and also because i wanted to see in what manner they would celebrate the festival which was a new thing i was delighted with the procession of the inhabitants but that of the thracians was equally if not more',\n",
       " 'offer up my prayers to the goddess bendis the thracian artemis and also because i wanted to see in what manner they would celebrate the festival which was a new thing i was delighted with the procession of the inhabitants but that of the thracians was equally if not more beautiful',\n",
       " 'up my prayers to the goddess bendis the thracian artemis and also because i wanted to see in what manner they would celebrate the festival which was a new thing i was delighted with the procession of the inhabitants but that of the thracians was equally if not more beautiful when',\n",
       " 'my prayers to the goddess bendis the thracian artemis and also because i wanted to see in what manner they would celebrate the festival which was a new thing i was delighted with the procession of the inhabitants but that of the thracians was equally if not more beautiful when we',\n",
       " 'prayers to the goddess bendis the thracian artemis and also because i wanted to see in what manner they would celebrate the festival which was a new thing i was delighted with the procession of the inhabitants but that of the thracians was equally if not more beautiful when we had',\n",
       " 'to the goddess bendis the thracian artemis and also because i wanted to see in what manner they would celebrate the festival which was a new thing i was delighted with the procession of the inhabitants but that of the thracians was equally if not more beautiful when we had finished',\n",
       " 'the goddess bendis the thracian artemis and also because i wanted to see in what manner they would celebrate the festival which was a new thing i was delighted with the procession of the inhabitants but that of the thracians was equally if not more beautiful when we had finished our',\n",
       " 'goddess bendis the thracian artemis and also because i wanted to see in what manner they would celebrate the festival which was a new thing i was delighted with the procession of the inhabitants but that of the thracians was equally if not more beautiful when we had finished our prayers',\n",
       " 'bendis the thracian artemis and also because i wanted to see in what manner they would celebrate the festival which was a new thing i was delighted with the procession of the inhabitants but that of the thracians was equally if not more beautiful when we had finished our prayers and',\n",
       " 'the thracian artemis and also because i wanted to see in what manner they would celebrate the festival which was a new thing i was delighted with the procession of the inhabitants but that of the thracians was equally if not more beautiful when we had finished our prayers and viewed',\n",
       " 'thracian artemis and also because i wanted to see in what manner they would celebrate the festival which was a new thing i was delighted with the procession of the inhabitants but that of the thracians was equally if not more beautiful when we had finished our prayers and viewed the',\n",
       " 'artemis and also because i wanted to see in what manner they would celebrate the festival which was a new thing i was delighted with the procession of the inhabitants but that of the thracians was equally if not more beautiful when we had finished our prayers and viewed the spectacle',\n",
       " 'and also because i wanted to see in what manner they would celebrate the festival which was a new thing i was delighted with the procession of the inhabitants but that of the thracians was equally if not more beautiful when we had finished our prayers and viewed the spectacle we',\n",
       " 'also because i wanted to see in what manner they would celebrate the festival which was a new thing i was delighted with the procession of the inhabitants but that of the thracians was equally if not more beautiful when we had finished our prayers and viewed the spectacle we turned',\n",
       " 'because i wanted to see in what manner they would celebrate the festival which was a new thing i was delighted with the procession of the inhabitants but that of the thracians was equally if not more beautiful when we had finished our prayers and viewed the spectacle we turned in',\n",
       " 'i wanted to see in what manner they would celebrate the festival which was a new thing i was delighted with the procession of the inhabitants but that of the thracians was equally if not more beautiful when we had finished our prayers and viewed the spectacle we turned in the',\n",
       " 'wanted to see in what manner they would celebrate the festival which was a new thing i was delighted with the procession of the inhabitants but that of the thracians was equally if not more beautiful when we had finished our prayers and viewed the spectacle we turned in the direction',\n",
       " 'to see in what manner they would celebrate the festival which was a new thing i was delighted with the procession of the inhabitants but that of the thracians was equally if not more beautiful when we had finished our prayers and viewed the spectacle we turned in the direction of',\n",
       " 'see in what manner they would celebrate the festival which was a new thing i was delighted with the procession of the inhabitants but that of the thracians was equally if not more beautiful when we had finished our prayers and viewed the spectacle we turned in the direction of the',\n",
       " 'in what manner they would celebrate the festival which was a new thing i was delighted with the procession of the inhabitants but that of the thracians was equally if not more beautiful when we had finished our prayers and viewed the spectacle we turned in the direction of the city',\n",
       " 'what manner they would celebrate the festival which was a new thing i was delighted with the procession of the inhabitants but that of the thracians was equally if not more beautiful when we had finished our prayers and viewed the spectacle we turned in the direction of the city and',\n",
       " 'manner they would celebrate the festival which was a new thing i was delighted with the procession of the inhabitants but that of the thracians was equally if not more beautiful when we had finished our prayers and viewed the spectacle we turned in the direction of the city and at',\n",
       " 'they would celebrate the festival which was a new thing i was delighted with the procession of the inhabitants but that of the thracians was equally if not more beautiful when we had finished our prayers and viewed the spectacle we turned in the direction of the city and at that',\n",
       " 'would celebrate the festival which was a new thing i was delighted with the procession of the inhabitants but that of the thracians was equally if not more beautiful when we had finished our prayers and viewed the spectacle we turned in the direction of the city and at that instant',\n",
       " 'celebrate the festival which was a new thing i was delighted with the procession of the inhabitants but that of the thracians was equally if not more beautiful when we had finished our prayers and viewed the spectacle we turned in the direction of the city and at that instant polemarchus',\n",
       " 'the festival which was a new thing i was delighted with the procession of the inhabitants but that of the thracians was equally if not more beautiful when we had finished our prayers and viewed the spectacle we turned in the direction of the city and at that instant polemarchus the',\n",
       " 'festival which was a new thing i was delighted with the procession of the inhabitants but that of the thracians was equally if not more beautiful when we had finished our prayers and viewed the spectacle we turned in the direction of the city and at that instant polemarchus the son',\n",
       " 'which was a new thing i was delighted with the procession of the inhabitants but that of the thracians was equally if not more beautiful when we had finished our prayers and viewed the spectacle we turned in the direction of the city and at that instant polemarchus the son of',\n",
       " 'was a new thing i was delighted with the procession of the inhabitants but that of the thracians was equally if not more beautiful when we had finished our prayers and viewed the spectacle we turned in the direction of the city and at that instant polemarchus the son of cephalus',\n",
       " 'a new thing i was delighted with the procession of the inhabitants but that of the thracians was equally if not more beautiful when we had finished our prayers and viewed the spectacle we turned in the direction of the city and at that instant polemarchus the son of cephalus chanced',\n",
       " 'new thing i was delighted with the procession of the inhabitants but that of the thracians was equally if not more beautiful when we had finished our prayers and viewed the spectacle we turned in the direction of the city and at that instant polemarchus the son of cephalus chanced to',\n",
       " 'thing i was delighted with the procession of the inhabitants but that of the thracians was equally if not more beautiful when we had finished our prayers and viewed the spectacle we turned in the direction of the city and at that instant polemarchus the son of cephalus chanced to catch',\n",
       " 'i was delighted with the procession of the inhabitants but that of the thracians was equally if not more beautiful when we had finished our prayers and viewed the spectacle we turned in the direction of the city and at that instant polemarchus the son of cephalus chanced to catch sight',\n",
       " 'was delighted with the procession of the inhabitants but that of the thracians was equally if not more beautiful when we had finished our prayers and viewed the spectacle we turned in the direction of the city and at that instant polemarchus the son of cephalus chanced to catch sight of',\n",
       " 'delighted with the procession of the inhabitants but that of the thracians was equally if not more beautiful when we had finished our prayers and viewed the spectacle we turned in the direction of the city and at that instant polemarchus the son of cephalus chanced to catch sight of us']"
      ]
     },
     "execution_count": 7,
     "metadata": {},
     "output_type": "execute_result"
    }
   ],
   "source": [
    "sequences[:51]"
   ]
  },
  {
   "cell_type": "markdown",
   "metadata": {},
   "source": [
    "Let save everything to a file for later use "
   ]
  },
  {
   "cell_type": "code",
   "execution_count": 8,
   "metadata": {},
   "outputs": [],
   "source": [
    "def save_document(lines, path):\n",
    "    \"\"\"\n",
    "    save the document to the given path\n",
    "    \"\"\"\n",
    "    data = '\\n'.join(lines)\n",
    "    with open(path , 'w') as file :\n",
    "        file.write(data)"
   ]
  },
  {
   "cell_type": "code",
   "execution_count": 9,
   "metadata": {},
   "outputs": [],
   "source": [
    "save_document(sequences, 'data/republic_sentences.txt')"
   ]
  },
  {
   "cell_type": "code",
   "execution_count": 10,
   "metadata": {},
   "outputs": [
    {
     "data": {
      "text/plain": [
       "118632"
      ]
     },
     "execution_count": 10,
     "metadata": {},
     "output_type": "execute_result"
    }
   ],
   "source": [
    "len(sequences)"
   ]
  },
  {
   "cell_type": "markdown",
   "metadata": {},
   "source": [
    "Let reload our input data again"
   ]
  },
  {
   "cell_type": "code",
   "execution_count": 11,
   "metadata": {},
   "outputs": [],
   "source": [
    "\n",
    "doc = load_document('data/republic_sentences.txt')\n",
    "lines = doc.split('\\n')"
   ]
  },
  {
   "cell_type": "code",
   "execution_count": 12,
   "metadata": {},
   "outputs": [
    {
     "data": {
      "text/plain": [
       "['i i went down yesterday to the piraeus with glaucon the son of ariston that i might offer up my prayers to the goddess bendis the thracian artemis and also because i wanted to see in what manner they would celebrate the festival which was a new thing i was delighted',\n",
       " 'i went down yesterday to the piraeus with glaucon the son of ariston that i might offer up my prayers to the goddess bendis the thracian artemis and also because i wanted to see in what manner they would celebrate the festival which was a new thing i was delighted with',\n",
       " 'went down yesterday to the piraeus with glaucon the son of ariston that i might offer up my prayers to the goddess bendis the thracian artemis and also because i wanted to see in what manner they would celebrate the festival which was a new thing i was delighted with the',\n",
       " 'down yesterday to the piraeus with glaucon the son of ariston that i might offer up my prayers to the goddess bendis the thracian artemis and also because i wanted to see in what manner they would celebrate the festival which was a new thing i was delighted with the procession',\n",
       " 'yesterday to the piraeus with glaucon the son of ariston that i might offer up my prayers to the goddess bendis the thracian artemis and also because i wanted to see in what manner they would celebrate the festival which was a new thing i was delighted with the procession of']"
      ]
     },
     "execution_count": 12,
     "metadata": {},
     "output_type": "execute_result"
    }
   ],
   "source": [
    "lines[:5]"
   ]
  },
  {
   "cell_type": "markdown",
   "metadata": {},
   "source": [
    "### II. Preparing the text for the model "
   ]
  },
  {
   "cell_type": "markdown",
   "metadata": {},
   "source": [
    "We have our sentences , 118632 differents sentences... w\n",
    "\n",
    "we can now move to the preparation of our dataset for Machine learning."
   ]
  },
  {
   "cell_type": "markdown",
   "metadata": {},
   "source": [
    "We are predicting the next word in a sentence , so our X is a sentence , and Y is the same sentence sifted by one."
   ]
  },
  {
   "cell_type": "code",
   "execution_count": 13,
   "metadata": {},
   "outputs": [
    {
     "data": {
      "text/plain": [
       "'i i went down yesterday to the piraeus with glaucon the son of ariston that i might offer up my prayers to the goddess bendis the thracian artemis and also because i wanted to see in what manner they would celebrate the festival which was a new thing i was delighted'"
      ]
     },
     "execution_count": 13,
     "metadata": {},
     "output_type": "execute_result"
    }
   ],
   "source": [
    "lines[0]"
   ]
  },
  {
   "cell_type": "markdown",
   "metadata": {},
   "source": [
    "If the line above is x , our Y will be...."
   ]
  },
  {
   "cell_type": "code",
   "execution_count": 14,
   "metadata": {},
   "outputs": [],
   "source": [
    "for line in lines:\n",
    "    line = line.split(' ')"
   ]
  },
  {
   "cell_type": "code",
   "execution_count": 15,
   "metadata": {},
   "outputs": [
    {
     "data": {
      "text/plain": [
       "'i i went down yesterday to the piraeus with glaucon the son of ariston that i might offer up my prayers to the goddess bendis the thracian artemis and also because i wanted to see in what manner they would celebrate the festival which was a new thing i was delighted'"
      ]
     },
     "execution_count": 15,
     "metadata": {},
     "output_type": "execute_result"
    }
   ],
   "source": [
    "lines[0]"
   ]
  },
  {
   "cell_type": "markdown",
   "metadata": {},
   "source": [
    "Transforming sentences into list of tokens..."
   ]
  },
  {
   "cell_type": "code",
   "execution_count": 16,
   "metadata": {},
   "outputs": [],
   "source": [
    "sentences = []\n",
    "for line in lines:\n",
    "    sentences.append(line.split())"
   ]
  },
  {
   "cell_type": "code",
   "execution_count": 17,
   "metadata": {},
   "outputs": [],
   "source": [
    "sentences = np.array(sentences)"
   ]
  },
  {
   "cell_type": "markdown",
   "metadata": {},
   "source": [
    "This is how X looks like"
   ]
  },
  {
   "cell_type": "code",
   "execution_count": 18,
   "metadata": {
    "scrolled": true
   },
   "outputs": [
    {
     "data": {
      "text/plain": [
       "array(['i', 'i', 'went', 'down', 'yesterday', 'to', 'the', 'piraeus',\n",
       "       'with', 'glaucon', 'the', 'son', 'of', 'ariston', 'that', 'i',\n",
       "       'might', 'offer', 'up', 'my', 'prayers', 'to', 'the', 'goddess',\n",
       "       'bendis', 'the', 'thracian', 'artemis', 'and', 'also', 'because',\n",
       "       'i', 'wanted', 'to', 'see', 'in', 'what', 'manner', 'they',\n",
       "       'would', 'celebrate', 'the', 'festival', 'which', 'was', 'a',\n",
       "       'new', 'thing', 'i', 'was'], dtype='<U19')"
      ]
     },
     "execution_count": 18,
     "metadata": {},
     "output_type": "execute_result"
    }
   ],
   "source": [
    "sentences[0][:-1]"
   ]
  },
  {
   "cell_type": "markdown",
   "metadata": {},
   "source": [
    "And Y looks like"
   ]
  },
  {
   "cell_type": "code",
   "execution_count": 19,
   "metadata": {},
   "outputs": [
    {
     "data": {
      "text/plain": [
       "array(['i', 'went', 'down', 'yesterday', 'to', 'the', 'piraeus', 'with',\n",
       "       'glaucon', 'the', 'son', 'of', 'ariston', 'that', 'i', 'might',\n",
       "       'offer', 'up', 'my', 'prayers', 'to', 'the', 'goddess', 'bendis',\n",
       "       'the', 'thracian', 'artemis', 'and', 'also', 'because', 'i',\n",
       "       'wanted', 'to', 'see', 'in', 'what', 'manner', 'they', 'would',\n",
       "       'celebrate', 'the', 'festival', 'which', 'was', 'a', 'new',\n",
       "       'thing', 'i', 'was', 'delighted'], dtype='<U19')"
      ]
     },
     "execution_count": 19,
     "metadata": {},
     "output_type": "execute_result"
    }
   ],
   "source": [
    "sentences[0][1:]"
   ]
  },
  {
   "cell_type": "code",
   "execution_count": 20,
   "metadata": {},
   "outputs": [],
   "source": [
    "X , Y = sentences[:, :-1], sentences[:, 1:]"
   ]
  },
  {
   "cell_type": "code",
   "execution_count": 21,
   "metadata": {},
   "outputs": [
    {
     "data": {
      "text/plain": [
       "array(['i', 'i', 'went', 'down', 'yesterday', 'to', 'the', 'piraeus',\n",
       "       'with', 'glaucon', 'the', 'son', 'of', 'ariston', 'that', 'i',\n",
       "       'might', 'offer', 'up', 'my', 'prayers', 'to', 'the', 'goddess',\n",
       "       'bendis', 'the', 'thracian', 'artemis', 'and', 'also', 'because',\n",
       "       'i', 'wanted', 'to', 'see', 'in', 'what', 'manner', 'they',\n",
       "       'would', 'celebrate', 'the', 'festival', 'which', 'was', 'a',\n",
       "       'new', 'thing', 'i', 'was'], dtype='<U19')"
      ]
     },
     "execution_count": 21,
     "metadata": {},
     "output_type": "execute_result"
    }
   ],
   "source": [
    "X[0]"
   ]
  },
  {
   "cell_type": "code",
   "execution_count": 22,
   "metadata": {},
   "outputs": [
    {
     "data": {
      "text/plain": [
       "(50,)"
      ]
     },
     "execution_count": 22,
     "metadata": {},
     "output_type": "execute_result"
    }
   ],
   "source": [
    "Y[0].shape"
   ]
  },
  {
   "cell_type": "markdown",
   "metadata": {},
   "source": [
    "### One Hot encoding the token"
   ]
  },
  {
   "cell_type": "markdown",
   "metadata": {},
   "source": [
    "Given our vocabulary we can replace each word in a sentence denoting his possition in our dictionary.\n",
    "based on that possition we can convert hours number into one hoted vector.m"
   ]
  },
  {
   "cell_type": "code",
   "execution_count": 23,
   "metadata": {},
   "outputs": [],
   "source": [
    "vocab = list(set(tokens))"
   ]
  },
  {
   "cell_type": "code",
   "execution_count": 24,
   "metadata": {},
   "outputs": [
    {
     "data": {
      "text/plain": [
       "7409"
      ]
     },
     "execution_count": 24,
     "metadata": {},
     "output_type": "execute_result"
    }
   ],
   "source": [
    "len(vocab)"
   ]
  },
  {
   "cell_type": "markdown",
   "metadata": {},
   "source": [
    "Our vocabulary has 7409 words"
   ]
  },
  {
   "cell_type": "code",
   "execution_count": 25,
   "metadata": {},
   "outputs": [],
   "source": [
    "# each word to an number"
   ]
  },
  {
   "cell_type": "code",
   "execution_count": 26,
   "metadata": {},
   "outputs": [],
   "source": [
    "word_to_number = {}\n",
    "for x in range(len(vocab)):\n",
    "    word_to_number[vocab[x]] = x"
   ]
  },
  {
   "cell_type": "code",
   "execution_count": 27,
   "metadata": {},
   "outputs": [],
   "source": [
    "number_to_word = {}\n",
    "for word, number in word_to_number.items():\n",
    "    number_to_word[number] = word"
   ]
  },
  {
   "cell_type": "markdown",
   "metadata": {},
   "source": [
    "Convert array of token to array of integer"
   ]
  },
  {
   "cell_type": "code",
   "execution_count": 28,
   "metadata": {},
   "outputs": [],
   "source": [
    "X_number = np.vectorize(word_to_number.__getitem__)(X)\n",
    "Y_number = np.vectorize(word_to_number.__getitem__)(Y)"
   ]
  },
  {
   "cell_type": "markdown",
   "metadata": {},
   "source": [
    "Checking if the arrays are equals after conversion"
   ]
  },
  {
   "cell_type": "code",
   "execution_count": 29,
   "metadata": {},
   "outputs": [],
   "source": [
    "np.testing.assert_array_equal(X, np.vectorize(number_to_word.__getitem__)(X_number))"
   ]
  },
  {
   "cell_type": "code",
   "execution_count": 30,
   "metadata": {},
   "outputs": [],
   "source": [
    "np.testing.assert_array_equal(Y, np.vectorize(number_to_word.__getitem__)(Y_number))"
   ]
  },
  {
   "cell_type": "markdown",
   "metadata": {},
   "source": [
    "One hot encoding the variables check here for a [numpy solution](https://stackoverflow.com/a/36960495/4683950)"
   ]
  },
  {
   "cell_type": "code",
   "execution_count": 31,
   "metadata": {},
   "outputs": [
    {
     "data": {
      "text/plain": [
       "array([   0,    1,    2, ..., 7406, 7407, 7408])"
      ]
     },
     "execution_count": 31,
     "metadata": {},
     "output_type": "execute_result"
    }
   ],
   "source": [
    "np.arange(X_number.max()+1)"
   ]
  },
  {
   "cell_type": "code",
   "execution_count": 32,
   "metadata": {
    "scrolled": true
   },
   "outputs": [],
   "source": [
    "def all_index(idx, axis):\n",
    "    \"\"\"\n",
    "    helper function for indexing\n",
    "    \"\"\"\n",
    "    grid = np.ogrid[tuple(map(slice, idx.shape))]\n",
    "    grid.insert(axis, idx)\n",
    "    return tuple(grid)   "
   ]
  },
  {
   "cell_type": "code",
   "execution_count": 33,
   "metadata": {},
   "outputs": [],
   "source": [
    "def one_hot_initialization(a):\n",
    "    ncols = a.max()+1\n",
    "    out = np.zeros(a.shape + (ncols,), dtype=int)\n",
    "    out[all_index(a, axis=2)] = 1\n",
    "    return out"
   ]
  },
  {
   "cell_type": "code",
   "execution_count": 34,
   "metadata": {},
   "outputs": [],
   "source": [
    "X = one_hot_initialization(X_number)\n",
    "Y = one_hot_initialization(Y_number)"
   ]
  },
  {
   "cell_type": "code",
   "execution_count": 38,
   "metadata": {},
   "outputs": [
    {
     "data": {
      "text/plain": [
       "(50, 7409)"
      ]
     },
     "execution_count": 38,
     "metadata": {},
     "output_type": "execute_result"
    }
   ],
   "source": [
    "X[0].shape"
   ]
  },
  {
   "cell_type": "code",
   "execution_count": 40,
   "metadata": {},
   "outputs": [
    {
     "data": {
      "text/plain": [
       "(50, 7409)"
      ]
     },
     "execution_count": 40,
     "metadata": {},
     "output_type": "execute_result"
    }
   ],
   "source": [
    "Y[0].shape"
   ]
  },
  {
   "cell_type": "code",
   "execution_count": 41,
   "metadata": {},
   "outputs": [
    {
     "data": {
      "text/plain": [
       "(118632, 50, 7409)"
      ]
     },
     "execution_count": 41,
     "metadata": {},
     "output_type": "execute_result"
    }
   ],
   "source": [
    "X.shape"
   ]
  },
  {
   "cell_type": "code",
   "execution_count": 42,
   "metadata": {},
   "outputs": [
    {
     "data": {
      "text/plain": [
       "(118632, 50, 7409)"
      ]
     },
     "execution_count": 42,
     "metadata": {},
     "output_type": "execute_result"
    }
   ],
   "source": [
    "Y.shape"
   ]
  },
  {
   "cell_type": "code",
   "execution_count": null,
   "metadata": {},
   "outputs": [],
   "source": []
  },
  {
   "cell_type": "code",
   "execution_count": 37,
   "metadata": {},
   "outputs": [
    {
     "data": {
      "text/plain": [
       "array([1951, 1951, 1395, 6504, 4319, 2905, 2986, 1158, 4285, 5633, 2986,\n",
       "       3028, 6859, 1352, 7317, 1951, 3791, 1954, 5836, 1502, 3295, 2905,\n",
       "       2986, 7392, 1583, 2986, 7205, 2680,  399, 5632, 1768, 1951, 4453,\n",
       "       2905, 5039, 7034, 5087, 5419,  866,  588, 3189, 2986, 5288, 5441,\n",
       "       1179, 5180, 4893, 2424, 1951, 1179])"
      ]
     },
     "execution_count": 37,
     "metadata": {},
     "output_type": "execute_result"
    }
   ],
   "source": []
  },
  {
   "cell_type": "code",
   "execution_count": 39,
   "metadata": {},
   "outputs": [],
   "source": [
    "np.testing.assert_array_equal(np.argmax(X[0], axis=1), X_number[0])"
   ]
  },
  {
   "cell_type": "code",
   "execution_count": null,
   "metadata": {},
   "outputs": [],
   "source": [
    "np.argmax(X[0], axis=1)"
   ]
  },
  {
   "cell_type": "code",
   "execution_count": 42,
   "metadata": {},
   "outputs": [],
   "source": [
    "def array_to_word(array, number_to_word=number_to_word):\n",
    "    \"\"\"\n",
    "    convert a one hotte encoded array to word.\n",
    "    \"\"\"\n",
    "    x = np.argmax(array, axis=1)\n",
    "    return np.vectorize(number_to_word.__getitem__)(x)"
   ]
  },
  {
   "cell_type": "code",
   "execution_count": 43,
   "metadata": {},
   "outputs": [
    {
     "data": {
      "text/plain": [
       "array(['i', 'i', 'went', 'down', 'yesterday', 'to', 'the', 'piraeus',\n",
       "       'with', 'glaucon', 'the', 'son', 'of', 'ariston', 'that', 'i',\n",
       "       'might', 'offer', 'up', 'my', 'prayers', 'to', 'the', 'goddess',\n",
       "       'bendis', 'the', 'thracian', 'artemis', 'and', 'also', 'because',\n",
       "       'i', 'wanted', 'to', 'see', 'in', 'what', 'manner', 'they',\n",
       "       'would', 'celebrate', 'the', 'festival', 'which', 'was', 'a',\n",
       "       'new', 'thing', 'i', 'was'], dtype='<U9')"
      ]
     },
     "execution_count": 43,
     "metadata": {},
     "output_type": "execute_result"
    }
   ],
   "source": [
    "array_to_word(X[0])"
   ]
  },
  {
   "cell_type": "code",
   "execution_count": 44,
   "metadata": {},
   "outputs": [
    {
     "data": {
      "text/plain": [
       "array(['i', 'went', 'down', 'yesterday', 'to', 'the', 'piraeus', 'with',\n",
       "       'glaucon', 'the', 'son', 'of', 'ariston', 'that', 'i', 'might',\n",
       "       'offer', 'up', 'my', 'prayers', 'to', 'the', 'goddess', 'bendis',\n",
       "       'the', 'thracian', 'artemis', 'and', 'also', 'because', 'i',\n",
       "       'wanted', 'to', 'see', 'in', 'what', 'manner', 'they', 'would',\n",
       "       'celebrate', 'the', 'festival', 'which', 'was', 'a', 'new',\n",
       "       'thing', 'i', 'was', 'delighted'], dtype='<U9')"
      ]
     },
     "execution_count": 44,
     "metadata": {},
     "output_type": "execute_result"
    }
   ],
   "source": [
    "array_to_word(Y[0])"
   ]
  },
  {
   "cell_type": "markdown",
   "metadata": {},
   "source": [
    "#### II. Building the model."
   ]
  },
  {
   "cell_type": "markdown",
   "metadata": {},
   "source": [
    "In the following part we will try to implement the network from scratch ans see how it goes."
   ]
  },
  {
   "cell_type": "code",
   "execution_count": 29,
   "metadata": {},
   "outputs": [
    {
     "data": {
      "text/plain": [
       "(118632, 7410)"
      ]
     },
     "execution_count": 29,
     "metadata": {},
     "output_type": "execute_result"
    }
   ],
   "source": [
    "Y.shape"
   ]
  },
  {
   "cell_type": "code",
   "execution_count": 31,
   "metadata": {},
   "outputs": [
    {
     "data": {
      "text/plain": [
       "(50, 7410)"
      ]
     },
     "execution_count": 31,
     "metadata": {},
     "output_type": "execute_result"
    }
   ],
   "source": [
    "X[0].shape"
   ]
  },
  {
   "cell_type": "code",
   "execution_count": 36,
   "metadata": {},
   "outputs": [
    {
     "data": {
      "text/plain": [
       "array([0., 0., 0., ..., 0., 0., 0.], dtype=float32)"
      ]
     },
     "execution_count": 36,
     "metadata": {},
     "output_type": "execute_result"
    }
   ],
   "source": [
    "Y[0]"
   ]
  },
  {
   "cell_type": "code",
   "execution_count": null,
   "metadata": {},
   "outputs": [],
   "source": []
  }
 ],
 "metadata": {
  "kernelspec": {
   "display_name": "deep-learning-venv",
   "language": "python",
   "name": "deep-learning-venv"
  },
  "language_info": {
   "codemirror_mode": {
    "name": "ipython",
    "version": 3
   },
   "file_extension": ".py",
   "mimetype": "text/x-python",
   "name": "python",
   "nbconvert_exporter": "python",
   "pygments_lexer": "ipython3",
   "version": "3.6.5"
  }
 },
 "nbformat": 4,
 "nbformat_minor": 4
}
