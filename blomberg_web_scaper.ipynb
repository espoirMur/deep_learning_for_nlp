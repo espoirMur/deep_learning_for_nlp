{
 "cells": [
  {
   "cell_type": "markdown",
   "metadata": {},
   "source": [
    "### Bloomberg WebScraping"
   ]
  },
  {
   "cell_type": "markdown",
   "metadata": {},
   "source": [
    "In the following noteook I will scrape bloomberg website and retrieve data from a comapany and put everything into a pandas dataframe."
   ]
  },
  {
   "cell_type": "code",
   "execution_count": 64,
   "metadata": {},
   "outputs": [
    {
     "name": "stderr",
     "output_type": "stream",
     "text": [
      "/Users/es.py/.pyenv/versions/3.6.5/lib/python3.6/site-packages/pandas/compat/__init__.py:117: UserWarning: Could not import the lzma module. Your installed Python is incomplete. Attempting to use lzma compression will result in a RuntimeError.\n",
      "  warnings.warn(msg)\n"
     ]
    }
   ],
   "source": [
    "from requests import get\n",
    "from requests.exceptions import RequestException\n",
    "from contextlib import closing\n",
    "from bs4 import BeautifulSoup\n",
    "from selenium import webdriver\n",
    "import pandas as pd"
   ]
  },
  {
   "cell_type": "code",
   "execution_count": 5,
   "metadata": {},
   "outputs": [],
   "source": [
    "def simple_get(url):\n",
    "    \"\"\"\n",
    "    Attempts to get the content at `url` by making an HTTP GET request.\n",
    "    If the content-type of response is some kind of HTML/XML, return the\n",
    "    text content, otherwise return None.\n",
    "    \"\"\"\n",
    "    try:\n",
    "        with closing(get(url, stream=True)) as resp:\n",
    "            if is_good_response(resp):\n",
    "                return resp.content\n",
    "            else:\n",
    "                return None\n",
    "\n",
    "    except RequestException as e:\n",
    "        log_error('Error during requests to {0} : {1}'.format(url, str(e)))\n",
    "        return None"
   ]
  },
  {
   "cell_type": "code",
   "execution_count": 6,
   "metadata": {},
   "outputs": [],
   "source": [
    "def is_good_response(resp):\n",
    "    \"\"\"\n",
    "    Returns True if the response seems to be HTML, False otherwise.\n",
    "    \"\"\"\n",
    "    content_type = resp.headers.get('Content-Type').lower()\n",
    "    return (resp.status_code == 200 \n",
    "            and content_type is not None \n",
    "            and content_type.find('html') > -1)"
   ]
  },
  {
   "cell_type": "code",
   "execution_count": 7,
   "metadata": {},
   "outputs": [],
   "source": [
    "def log_error(e):\n",
    "    \"\"\"\n",
    "    It is always a good idea to log errors. \n",
    "    This function just prints them, but you can\n",
    "    make it do anything, like using a logger\n",
    "    \"\"\"\n",
    "    print(e)"
   ]
  },
  {
   "cell_type": "code",
   "execution_count": 85,
   "metadata": {},
   "outputs": [],
   "source": [
    "COMPANY = 'MSFT'\n",
    "COUNTRY = 'US'"
   ]
  },
  {
   "cell_type": "code",
   "execution_count": 86,
   "metadata": {},
   "outputs": [],
   "source": [
    "URL = f\"https://www.bloomberg.com/quote/{COMPANY}:{COUNTRY}\""
   ]
  },
  {
   "cell_type": "code",
   "execution_count": 87,
   "metadata": {},
   "outputs": [],
   "source": [
    "DRIVER_PATH = \"/usr/local/bin/chromedriver\""
   ]
  },
  {
   "cell_type": "code",
   "execution_count": 88,
   "metadata": {},
   "outputs": [],
   "source": [
    "def get_using_selenuim(URL=URL):\n",
    "    \"\"\"\n",
    "    try to get the wesite content using selenuim webdriver\n",
    "    \n",
    "    driver : selenuim webdriver\n",
    "    \"\"\"\n",
    "    with webdriver.Chrome(DRIVER_PATH) as driver:\n",
    "        driver.get(URL)\n",
    "        html_content = driver.page_source\n",
    "        return html_content"
   ]
  },
  {
   "cell_type": "code",
   "execution_count": 89,
   "metadata": {},
   "outputs": [],
   "source": [
    "html_content = get_using_selenuim(URL)"
   ]
  },
  {
   "cell_type": "code",
   "execution_count": 90,
   "metadata": {},
   "outputs": [],
   "source": [
    "html = BeautifulSoup(html_content, 'html.parser')"
   ]
  },
  {
   "cell_type": "markdown",
   "metadata": {},
   "source": [
    "According to the site data we need to read it the left pane and the right pane...."
   ]
  },
  {
   "cell_type": "code",
   "execution_count": 91,
   "metadata": {},
   "outputs": [],
   "source": [
    "left_pannel = html.find_all('div', class_=\"left__fe2675a4\")\n",
    "right_pannel = html.find_all('div', class_=\"right__913e6006\")"
   ]
  },
  {
   "cell_type": "code",
   "execution_count": 92,
   "metadata": {},
   "outputs": [],
   "source": [
    "left_rows = left_pannel[0].find_all('div', class_=\"rowListItemWrap__4121c877\")\n",
    "right_rows = right_pannel[0].find_all('div', class_=\"rowListItemWrap__4121c877\")"
   ]
  },
  {
   "cell_type": "code",
   "execution_count": 93,
   "metadata": {},
   "outputs": [],
   "source": [
    "labels = []\n",
    "values = []\n",
    "units = []\n",
    "for row in left_rows + right_rows:\n",
    "    label = row.find('span', class_=\"fieldLabel__9f45bef7\").find('span')\n",
    "    value = row.find('span', class_=\"fieldValue__2d582aa7\")\n",
    "    if \"%\" in value.text:\n",
    "        value = value.text.replace('%', '')\n",
    "        units.append('Percents')\n",
    "    elif 'B' in value.text:\n",
    "        value = value.text.replace('B', '')\n",
    "        units.append('B')\n",
    "    else:\n",
    "        value = value.text\n",
    "        units.append(None)\n",
    "    labels.append(label.text)\n",
    "    values.append(value.replace(',',''))"
   ]
  },
  {
   "cell_type": "code",
   "execution_count": 94,
   "metadata": {},
   "outputs": [
    {
     "data": {
      "text/plain": [
       "[None, None, 'B', None, None, 'Percents', None, None, 'Percents', None]"
      ]
     },
     "execution_count": 94,
     "metadata": {},
     "output_type": "execute_result"
    }
   ],
   "source": [
    "units"
   ]
  },
  {
   "cell_type": "code",
   "execution_count": 95,
   "metadata": {},
   "outputs": [],
   "source": [
    "stock_data = pd.DataFrame(index=labels, data=zip(values, units), columns=['Values', 'Units'])"
   ]
  },
  {
   "cell_type": "code",
   "execution_count": 96,
   "metadata": {},
   "outputs": [],
   "source": [
    "stock_data.index.name = 'Label'"
   ]
  },
  {
   "cell_type": "markdown",
   "metadata": {},
   "source": [
    "### Key Statistics"
   ]
  },
  {
   "cell_type": "code",
   "execution_count": 97,
   "metadata": {},
   "outputs": [
    {
     "data": {
      "text/html": [
       "<div>\n",
       "<style scoped>\n",
       "    .dataframe tbody tr th:only-of-type {\n",
       "        vertical-align: middle;\n",
       "    }\n",
       "\n",
       "    .dataframe tbody tr th {\n",
       "        vertical-align: top;\n",
       "    }\n",
       "\n",
       "    .dataframe thead th {\n",
       "        text-align: right;\n",
       "    }\n",
       "</style>\n",
       "<table border=\"1\" class=\"dataframe\">\n",
       "  <thead>\n",
       "    <tr style=\"text-align: right;\">\n",
       "      <th></th>\n",
       "      <th>Values</th>\n",
       "      <th>Units</th>\n",
       "    </tr>\n",
       "    <tr>\n",
       "      <th>Label</th>\n",
       "      <th></th>\n",
       "      <th></th>\n",
       "    </tr>\n",
       "  </thead>\n",
       "  <tbody>\n",
       "    <tr>\n",
       "      <th>P/E Ratio</th>\n",
       "      <td>27.26</td>\n",
       "      <td>None</td>\n",
       "    </tr>\n",
       "    <tr>\n",
       "      <th>PEGY Ratio</th>\n",
       "      <td>1.9515</td>\n",
       "      <td>None</td>\n",
       "    </tr>\n",
       "    <tr>\n",
       "      <th>Shares Outstanding</th>\n",
       "      <td>7.61</td>\n",
       "      <td>B</td>\n",
       "    </tr>\n",
       "    <tr>\n",
       "      <th>Price to Book Ratio</th>\n",
       "      <td>10.1555</td>\n",
       "      <td>None</td>\n",
       "    </tr>\n",
       "    <tr>\n",
       "      <th>Price to Sales Ratio</th>\n",
       "      <td>8.3658</td>\n",
       "      <td>None</td>\n",
       "    </tr>\n",
       "    <tr>\n",
       "      <th>1 Year Return</th>\n",
       "      <td>26.26</td>\n",
       "      <td>Percents</td>\n",
       "    </tr>\n",
       "    <tr>\n",
       "      <th>30 Day Avg Volume</th>\n",
       "      <td>66057060</td>\n",
       "      <td>None</td>\n",
       "    </tr>\n",
       "    <tr>\n",
       "      <th>EPS</th>\n",
       "      <td>5.39</td>\n",
       "      <td>None</td>\n",
       "    </tr>\n",
       "    <tr>\n",
       "      <th>Dividend</th>\n",
       "      <td>1.39</td>\n",
       "      <td>Percents</td>\n",
       "    </tr>\n",
       "    <tr>\n",
       "      <th>Last Dividend Reported</th>\n",
       "      <td>0.51</td>\n",
       "      <td>None</td>\n",
       "    </tr>\n",
       "  </tbody>\n",
       "</table>\n",
       "</div>"
      ],
      "text/plain": [
       "                          Values     Units\n",
       "Label                                     \n",
       "P/E Ratio                  27.26      None\n",
       "PEGY Ratio                1.9515      None\n",
       "Shares Outstanding          7.61         B\n",
       "Price to Book Ratio      10.1555      None\n",
       "Price to Sales Ratio      8.3658      None\n",
       "1 Year Return              26.26  Percents\n",
       "30 Day Avg Volume       66057060      None\n",
       "EPS                         5.39      None\n",
       "Dividend                    1.39  Percents\n",
       "Last Dividend Reported      0.51      None"
      ]
     },
     "execution_count": 97,
     "metadata": {},
     "output_type": "execute_result"
    }
   ],
   "source": [
    "stock_data"
   ]
  },
  {
   "cell_type": "code",
   "execution_count": 78,
   "metadata": {},
   "outputs": [],
   "source": [
    "assert list(stock_data.index) == ['P/E Ratio',\n",
    " 'PEGY Ratio',\n",
    " 'Shares Outstanding',\n",
    " 'Price to Book Ratio',\n",
    " 'Price to Sales Ratio',\n",
    " '1 Year Return',\n",
    " '30 Day Avg Volume',\n",
    " 'EPS',\n",
    " 'Dividend',\n",
    " 'Last Dividend Reported']"
   ]
  },
  {
   "cell_type": "code",
   "execution_count": 82,
   "metadata": {},
   "outputs": [],
   "source": [
    "response = simple_get(URL)"
   ]
  },
  {
   "cell_type": "code",
   "execution_count": 83,
   "metadata": {},
   "outputs": [],
   "source": [
    "parsed_response = BeautifulSoup(response, 'html.parser')"
   ]
  },
  {
   "cell_type": "code",
   "execution_count": 84,
   "metadata": {},
   "outputs": [
    {
     "data": {
      "text/plain": [
       "<!DOCTYPE html>\n",
       "\n",
       "<html>\n",
       "<head>\n",
       "<title>Bloomberg - Are you a robot?</title>\n",
       "<meta content=\"width=device-width, initial-scale=1\" name=\"viewport\"/>\n",
       "<link href=\"https://assets.bwbx.io/font-service/css/BWHaasGrotesk-55Roman-Web,BWHaasGrotesk-75Bold-Web,BW%20Haas%20Text%20Mono%20A-55%20Roman/font-face.css\" rel=\"stylesheet\" type=\"text/css\"/>\n",
       "<style rel=\"stylesheet\" type=\"text/css\">\n",
       "        html, body, div, span, applet, object, iframe,\n",
       "        h1, h2, h3, h4, h5, h6, p, blockquote, pre,\n",
       "        a, abbr, acronym, address, big, cite, code,\n",
       "        del, dfn, em, img, ins, kbd, q, s, samp,\n",
       "        small, strike, strong, sub, sup, tt, var,\n",
       "        b, u, i, center,\n",
       "        dl, dt, dd, ol, ul, li,\n",
       "        fieldset, form, label, legend,\n",
       "        table, caption, tbody, tfoot, thead, tr, th, td,\n",
       "        article, aside, canvas, details, embed,\n",
       "        figure, figcaption, footer, header, hgroup,\n",
       "        menu, nav, output, ruby, section, summary,\n",
       "        time, mark, audio, video {\n",
       "            margin: 0;\n",
       "            padding: 0;\n",
       "            border: 0;\n",
       "            font-size: 100%;\n",
       "            font: inherit;\n",
       "            vertical-align: baseline;\n",
       "        }\n",
       "        /* HTML5 display-role reset for older browsers */\n",
       "        article, aside, details, figcaption, figure,\n",
       "        footer, header, hgroup, menu, nav, section {\n",
       "            display: block;\n",
       "        }\n",
       "        body {\n",
       "            line-height: 1;\n",
       "        }\n",
       "        ol, ul {\n",
       "            list-style: none;\n",
       "        }\n",
       "        blockquote, q {\n",
       "            quotes: none;\n",
       "        }\n",
       "        blockquote:before, blockquote:after,\n",
       "        q:before, q:after {\n",
       "            content: '';\n",
       "            content: none;\n",
       "        }\n",
       "        table {\n",
       "            border-collapse: collapse;\n",
       "            border-spacing: 0;\n",
       "        }\n",
       "\n",
       "        * {\n",
       "            box-sizing: border-box;\n",
       "        }\n",
       "\n",
       "        body {\n",
       "            background-color: #f2f2f2;\n",
       "            font-family: \"BWHaasGrotesk-55Roman-Web\";\n",
       "            line-height: 1.2;\n",
       "        }\n",
       "\n",
       "        .header {\n",
       "            margin: 0;\n",
       "            height: 60px;\n",
       "            width: 100%;\n",
       "            background-color: black;\n",
       "            color: white;\n",
       "            overflow-x: hidden;\n",
       "        }\n",
       "\n",
       "        .logo {\n",
       "            float: left;\n",
       "            margin: 0 20px;\n",
       "            height: 60px;\n",
       "            width: 140px;\n",
       "            background-image: url('data:image/svg+xml;base64,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');\n",
       "            background-repeat: no-repeat;\n",
       "            background-position: center;\n",
       "            font-size: 0;\n",
       "        }\n",
       "\n",
       "        .contact-us {\n",
       "            float: right;\n",
       "            margin: 0 20px;\n",
       "            line-height: 60px;\n",
       "            font-family: \"BWHaasGrotesk-55Roman-Web\";\n",
       "            font-size: 14px;\n",
       "            color: white;\n",
       "            text-decoration: underline;\n",
       "        }\n",
       "\n",
       "        .box {\n",
       "            margin: 30px auto;\n",
       "            padding: 30px;\n",
       "            width: 680px;\n",
       "            background-color: white;\n",
       "        }\n",
       "\n",
       "        @media (max-width:760px) {\n",
       "            .box {\n",
       "                width: calc(100% - 20px);\n",
       "            }\n",
       "        }\n",
       "\n",
       "        .main__heading, .info__heading {\n",
       "            font-family: \"BWHaasGrotesk-75Bold-Web\";\n",
       "        }\n",
       "\n",
       "        .main__heading {\n",
       "            font-size: 19px;\n",
       "            padding-bottom: 9px;\n",
       "        }\n",
       "\n",
       "        .continue {\n",
       "            font-size: 18px;\n",
       "        }\n",
       "\n",
       "        #px-captcha {\n",
       "            margin-top: 20px;\n",
       "            min-height: 80px;\n",
       "        }\n",
       "\n",
       "        .info {\n",
       "            border-top: dotted 1px black;\n",
       "            padding-top: 9px;\n",
       "        }\n",
       "\n",
       "        .info + .info {\n",
       "            margin-top: 30px;\n",
       "        }\n",
       "\n",
       "        .info__link {\n",
       "            color: black;\n",
       "            text-decoration: underline;\n",
       "        }\n",
       "\n",
       "        .info__heading {\n",
       "            font-size: 16px;\n",
       "            line-height: 20px;\n",
       "            padding-bottom: 9px;\n",
       "        }\n",
       "\n",
       "        .info__text {\n",
       "            padding-bottom: 9px;\n",
       "        }\n",
       "\n",
       "        #block_uuid {\n",
       "            display: inline-block;\n",
       "            padding: 6px;\n",
       "            background-color: #f2f2f2;\n",
       "            font-family: \"BW Haas Text Mono A-55 Roman\";\n",
       "            font-size: 14px;\n",
       "        }\n",
       "\n",
       "    </style>\n",
       "<script>\n",
       "        window._pxAppId = \"PX8FCGYgk4\";\n",
       "        window._pxJsClientSrc = \"/8FCGYgk4/init.js\";\n",
       "        window._pxFirstPartyEnabled = true;\n",
       "        window._pxHostUrl = \"/8FCGYgk4/xhr\";\n",
       "        window._pxreCaptchaTheme = \"light\";\n",
       "        window._pxUuid = qs(\"uuid\");\n",
       "\n",
       "        if(!window._pxUuid) {\n",
       "            window.pxInit = function (px) {\n",
       "                px.Events.one(\"uid\", function (uuid) {\n",
       "                    if (uuid) {\n",
       "                        document.getElementById(\"block_uuid\").innerText = \"Block reference ID: \" + uuid;\n",
       "                    }\n",
       "                });\n",
       "            };\n",
       "        }\n",
       "\n",
       "        function qs(name) {\n",
       "            var search = window.location.search;\n",
       "            var rx = new RegExp(\"[?&]\" + name + \"(=([^&#]*)|&|#|$)\");\n",
       "            var match = rx.exec(search);\n",
       "            return match ? decodeURIComponent(match[2].replace(/\\+/g, \" \")) : \"\";\n",
       "        }\n",
       "    </script>\n",
       "<script async=\"\" src=\"/8FCGYgk4/captcha/captcha.js?a=c&amp;m=0\"></script>\n",
       "</head>\n",
       "<body>\n",
       "<header class=\"header\">\n",
       "<h1 class=\"logo\">Bloomberg</h1>\n",
       "<a class=\"contact-us\" href=\"/feedback\">Need help? Contact us</a>\n",
       "</header>\n",
       "<section class=\"box main\">\n",
       "<h2 class=\"main__heading\">We've detected unusual activity from your computer network</h2>\n",
       "<p class=\"continue\">To continue, please click the box below to let us know you're not a robot.</p>\n",
       "<div id=\"px-captcha\"></div>\n",
       "</section>\n",
       "<section class=\"box\">\n",
       "<section class=\"info\">\n",
       "<h3 class=\"info__heading\">Why did this happen?</h3>\n",
       "<p class=\"info__text\">Please make sure your browser supports JavaScript and cookies and that you are not blocking them from loading. For more information you can review our <a class=\"info__link\" href=\"/notices/tos\">Terms of Service</a> and <a class=\"info__link\" href=\"/notices/tos\">Cookie Policy</a>.</p>\n",
       "</section>\n",
       "<section class=\"info\">\n",
       "<h3 class=\"info__heading\">Need Help?</h3>\n",
       "<p class=\"info__text\">For inquiries related to this message please <a class=\"info__link\" href=\"/feedback\">contact our support team</a> and provide the reference ID below.</p>\n",
       "<div id=\"block_uuid\">Block reference ID: </div>\n",
       "</section>\n",
       "</section>\n",
       "<script type=\"text/javascript\">\n",
       "    document.getElementById(\"block_uuid\").innerText = \"Block reference ID: \" + window._pxUuid;\n",
       "    </script>\n",
       "<!-- Google Tag Manager -->\n",
       "<script>(function(w, d, s, l, i) {\n",
       "        w[l] = w[l] || [];\n",
       "        w[l].push({ 'gtm.start': new Date().getTime(), event: 'gtm.js' });\n",
       "        var f = d.getElementsByTagName(s)[0], j = d.createElement(s), dl = l != 'dataLayer' ? '&l=' + l : '';\n",
       "        j.defer = true;\n",
       "        j.src = 'https://www.googletagmanager.com/gtm.js?id=' + i + dl;\n",
       "        f.parentNode.insertBefore(j, f);\n",
       "    })(window, document, 'script', 'dataLayer', 'GTM-MNTH5N');</script>\n",
       "<!-- End Google Tag Manager -->\n",
       "</body>\n",
       "</html>"
      ]
     },
     "execution_count": 84,
     "metadata": {},
     "output_type": "execute_result"
    }
   ],
   "source": [
    "parsed_response"
   ]
  },
  {
   "cell_type": "code",
   "execution_count": null,
   "metadata": {},
   "outputs": [],
   "source": []
  }
 ],
 "metadata": {
  "kernelspec": {
   "display_name": "Python 3",
   "language": "python",
   "name": "python3"
  },
  "language_info": {
   "codemirror_mode": {
    "name": "ipython",
    "version": 3
   },
   "file_extension": ".py",
   "mimetype": "text/x-python",
   "name": "python",
   "nbconvert_exporter": "python",
   "pygments_lexer": "ipython3",
   "version": "3.6.5"
  }
 },
 "nbformat": 4,
 "nbformat_minor": 4
}
