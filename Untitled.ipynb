{
 "cells": [
  {
   "cell_type": "code",
   "execution_count": 1,
   "metadata": {},
   "outputs": [
    {
     "name": "stderr",
     "output_type": "stream",
     "text": [
      "/Users/es.py/.pyenv/versions/3.6.5/lib/python3.6/site-packages/pandas/compat/__init__.py:117: UserWarning: Could not import the lzma module. Your installed Python is incomplete. Attempting to use lzma compression will result in a RuntimeError.\n",
      "  warnings.warn(msg)\n"
     ]
    }
   ],
   "source": [
    "import pandas as pd"
   ]
  },
  {
   "cell_type": "code",
   "execution_count": 3,
   "metadata": {},
   "outputs": [],
   "source": [
    "all_products = pd.read_csv('../../Xeco/FlowerShop/all_product.csv', index_col='id')"
   ]
  },
  {
   "cell_type": "code",
   "execution_count": 4,
   "metadata": {},
   "outputs": [],
   "source": [
    "products_with_missing = pd.read_csv('../../Xeco/FlowerShop/products_with_missing.csv')"
   ]
  },
  {
   "cell_type": "code",
   "execution_count": 5,
   "metadata": {},
   "outputs": [
    {
     "data": {
      "text/html": [
       "<div>\n",
       "<style scoped>\n",
       "    .dataframe tbody tr th:only-of-type {\n",
       "        vertical-align: middle;\n",
       "    }\n",
       "\n",
       "    .dataframe tbody tr th {\n",
       "        vertical-align: top;\n",
       "    }\n",
       "\n",
       "    .dataframe thead th {\n",
       "        text-align: right;\n",
       "    }\n",
       "</style>\n",
       "<table border=\"1\" class=\"dataframe\">\n",
       "  <thead>\n",
       "    <tr style=\"text-align: right;\">\n",
       "      <th></th>\n",
       "      <th>name</th>\n",
       "      <th>description</th>\n",
       "      <th>vbn</th>\n",
       "      <th>product_id</th>\n",
       "      <th>quantity</th>\n",
       "      <th>product_unit_quantity</th>\n",
       "      <th>grand_total_amount</th>\n",
       "      <th>created_at</th>\n",
       "      <th>type_code</th>\n",
       "      <th>purchase_order_id</th>\n",
       "    </tr>\n",
       "  </thead>\n",
       "  <tbody>\n",
       "    <tr>\n",
       "      <th>0</th>\n",
       "      <td>56x25 tray algemeen</td>\n",
       "      <td>56x25 tray algemeen</td>\n",
       "      <td>401.0</td>\n",
       "      <td>177.0</td>\n",
       "      <td>22.0</td>\n",
       "      <td>0.0</td>\n",
       "      <td>6.38</td>\n",
       "      <td>2020-03-03</td>\n",
       "      <td>67.0</td>\n",
       "      <td>40.0</td>\n",
       "    </tr>\n",
       "    <tr>\n",
       "      <th>1</th>\n",
       "      <td>ACACIA BL BAILEY BS</td>\n",
       "      <td>ACACIA BL BAILEY BS</td>\n",
       "      <td>213.0</td>\n",
       "      <td>23.0</td>\n",
       "      <td>10.0</td>\n",
       "      <td>10.0</td>\n",
       "      <td>21.50</td>\n",
       "      <td>2020-03-03</td>\n",
       "      <td>57.0</td>\n",
       "      <td>12.0</td>\n",
       "    </tr>\n",
       "    <tr>\n",
       "      <th>2</th>\n",
       "      <td>ACACIA DEALBATA BS</td>\n",
       "      <td>ACACIA DEALBATA BS</td>\n",
       "      <td>15106.0</td>\n",
       "      <td>399.0</td>\n",
       "      <td>10.0</td>\n",
       "      <td>10.0</td>\n",
       "      <td>18.00</td>\n",
       "      <td>2020-03-03</td>\n",
       "      <td>57.0</td>\n",
       "      <td>43.0</td>\n",
       "    </tr>\n",
       "    <tr>\n",
       "      <th>3</th>\n",
       "      <td>AESCULUS HIPPOC TAK</td>\n",
       "      <td>AESCULUS HIPPOC TAK</td>\n",
       "      <td>72.0</td>\n",
       "      <td>316.0</td>\n",
       "      <td>60.0</td>\n",
       "      <td>60.0</td>\n",
       "      <td>27.60</td>\n",
       "      <td>2020-03-03</td>\n",
       "      <td>57.0</td>\n",
       "      <td>34.0</td>\n",
       "    </tr>\n",
       "    <tr>\n",
       "      <th>4</th>\n",
       "      <td>AGAP ATLANTIC OCEAN</td>\n",
       "      <td>AGAP ATLANTIC OCEAN</td>\n",
       "      <td>21636.0</td>\n",
       "      <td>674.0</td>\n",
       "      <td>50.0</td>\n",
       "      <td>50.0</td>\n",
       "      <td>41.50</td>\n",
       "      <td>2020-04-03</td>\n",
       "      <td>57.0</td>\n",
       "      <td>87.0</td>\n",
       "    </tr>\n",
       "  </tbody>\n",
       "</table>\n",
       "</div>"
      ],
      "text/plain": [
       "                  name          description      vbn  product_id  quantity  \\\n",
       "0  56x25 tray algemeen  56x25 tray algemeen    401.0       177.0      22.0   \n",
       "1  ACACIA BL BAILEY BS  ACACIA BL BAILEY BS    213.0        23.0      10.0   \n",
       "2   ACACIA DEALBATA BS   ACACIA DEALBATA BS  15106.0       399.0      10.0   \n",
       "3  AESCULUS HIPPOC TAK  AESCULUS HIPPOC TAK     72.0       316.0      60.0   \n",
       "4  AGAP ATLANTIC OCEAN  AGAP ATLANTIC OCEAN  21636.0       674.0      50.0   \n",
       "\n",
       "   product_unit_quantity  grand_total_amount  created_at  type_code  \\\n",
       "0                    0.0                6.38  2020-03-03       67.0   \n",
       "1                   10.0               21.50  2020-03-03       57.0   \n",
       "2                   10.0               18.00  2020-03-03       57.0   \n",
       "3                   60.0               27.60  2020-03-03       57.0   \n",
       "4                   50.0               41.50  2020-04-03       57.0   \n",
       "\n",
       "   purchase_order_id  \n",
       "0               40.0  \n",
       "1               12.0  \n",
       "2               43.0  \n",
       "3               34.0  \n",
       "4               87.0  "
      ]
     },
     "execution_count": 5,
     "metadata": {},
     "output_type": "execute_result"
    }
   ],
   "source": [
    "products_with_missing.head()"
   ]
  },
  {
   "cell_type": "code",
   "execution_count": 7,
   "metadata": {},
   "outputs": [],
   "source": [
    "all_products.loc[~all_products.name.isin(products_with_missing.name)].to_csv('../../Xeco/FlowerShop/missing_products.csv')"
   ]
  },
  {
   "cell_type": "code",
   "execution_count": null,
   "metadata": {},
   "outputs": [],
   "source": []
  }
 ],
 "metadata": {
  "kernelspec": {
   "display_name": "Python 3",
   "language": "python",
   "name": "python3"
  },
  "language_info": {
   "codemirror_mode": {
    "name": "ipython",
    "version": 3
   },
   "file_extension": ".py",
   "mimetype": "text/x-python",
   "name": "python",
   "nbconvert_exporter": "python",
   "pygments_lexer": "ipython3",
   "version": "3.6.5"
  }
 },
 "nbformat": 4,
 "nbformat_minor": 4
}
