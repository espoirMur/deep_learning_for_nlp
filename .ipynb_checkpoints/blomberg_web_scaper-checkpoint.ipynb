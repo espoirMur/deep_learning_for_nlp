{
 "cells": [
  {
   "cell_type": "markdown",
   "metadata": {},
   "source": [
    "### Bloomberg WebScraping"
   ]
  },
  {
   "cell_type": "markdown",
   "metadata": {},
   "source": [
    "In the following noteook I will scrape bloomberg website and retrieve data from a comapany and put everything into a pandas dataframe."
   ]
  },
  {
   "cell_type": "code",
   "execution_count": 64,
   "metadata": {},
   "outputs": [
    {
     "name": "stderr",
     "output_type": "stream",
     "text": [
      "/Users/es.py/.pyenv/versions/3.6.5/lib/python3.6/site-packages/pandas/compat/__init__.py:117: UserWarning: Could not import the lzma module. Your installed Python is incomplete. Attempting to use lzma compression will result in a RuntimeError.\n",
      "  warnings.warn(msg)\n"
     ]
    }
   ],
   "source": [
    "from requests import get\n",
    "from requests.exceptions import RequestException\n",
    "from contextlib import closing\n",
    "from bs4 import BeautifulSoup\n",
    "from selenium import webdriver\n",
    "import pandas as pd"
   ]
  },
  {
   "cell_type": "code",
   "execution_count": 5,
   "metadata": {},
   "outputs": [],
   "source": [
    "def simple_get(url):\n",
    "    \"\"\"\n",
    "    Attempts to get the content at `url` by making an HTTP GET request.\n",
    "    If the content-type of response is some kind of HTML/XML, return the\n",
    "    text content, otherwise return None.\n",
    "    \"\"\"\n",
    "    try:\n",
    "        with closing(get(url, stream=True)) as resp:\n",
    "            if is_good_response(resp):\n",
    "                return resp.content\n",
    "            else:\n",
    "                return None\n",
    "\n",
    "    except RequestException as e:\n",
    "        log_error('Error during requests to {0} : {1}'.format(url, str(e)))\n",
    "        return None"
   ]
  },
  {
   "cell_type": "code",
   "execution_count": 6,
   "metadata": {},
   "outputs": [],
   "source": [
    "def is_good_response(resp):\n",
    "    \"\"\"\n",
    "    Returns True if the response seems to be HTML, False otherwise.\n",
    "    \"\"\"\n",
    "    content_type = resp.headers.get('Content-Type').lower()\n",
    "    return (resp.status_code == 200 \n",
    "            and content_type is not None \n",
    "            and content_type.find('html') > -1)"
   ]
  },
  {
   "cell_type": "code",
   "execution_count": 7,
   "metadata": {},
   "outputs": [],
   "source": [
    "def log_error(e):\n",
    "    \"\"\"\n",
    "    It is always a good idea to log errors. \n",
    "    This function just prints them, but you can\n",
    "    make it do anything, like using a logger\n",
    "    \"\"\"\n",
    "    print(e)"
   ]
  },
  {
   "cell_type": "code",
   "execution_count": 8,
   "metadata": {},
   "outputs": [],
   "source": [
    "COMPANY = 'AAPL'\n",
    "COUNTRY = 'US'"
   ]
  },
  {
   "cell_type": "code",
   "execution_count": 9,
   "metadata": {},
   "outputs": [],
   "source": [
    "URL = f\"https://www.bloomberg.com/quote/{COMPANY}:{COUNTRY}\""
   ]
  },
  {
   "cell_type": "code",
   "execution_count": 26,
   "metadata": {},
   "outputs": [],
   "source": [
    "DRIVER_PATH = \"/usr/local/bin/chromedriver\""
   ]
  },
  {
   "cell_type": "code",
   "execution_count": 23,
   "metadata": {},
   "outputs": [],
   "source": [
    "raw_html = simple_get(URL)"
   ]
  },
  {
   "cell_type": "code",
   "execution_count": 24,
   "metadata": {},
   "outputs": [],
   "source": [
    "html = BeautifulSoup(raw_html, 'html.parser')"
   ]
  },
  {
   "cell_type": "code",
   "execution_count": 32,
   "metadata": {},
   "outputs": [],
   "source": [
    "def get_using_selenuim(URL=URL):\n",
    "    \"\"\"\n",
    "    try to get the wesite content using selenuim webdriver\n",
    "    \n",
    "    driver : selenuim webdriver\n",
    "    \"\"\"\n",
    "    with webdriver.Chrome(DRIVER_PATH) as driver:\n",
    "        driver.get(URL)\n",
    "        html_content = driver.page_source\n",
    "        return html_content"
   ]
  },
  {
   "cell_type": "code",
   "execution_count": 33,
   "metadata": {},
   "outputs": [],
   "source": [
    "html_content = get_using_selenuim(URL)"
   ]
  },
  {
   "cell_type": "code",
   "execution_count": 34,
   "metadata": {},
   "outputs": [],
   "source": [
    "html = BeautifulSoup(html_content, 'html.parser')"
   ]
  },
  {
   "cell_type": "markdown",
   "metadata": {},
   "source": [
    "According to the site data we need to read it the left pane and the right pane...."
   ]
  },
  {
   "cell_type": "code",
   "execution_count": 35,
   "metadata": {},
   "outputs": [],
   "source": [
    "left_pannel = html.find_all('div', class_=\"left__fe2675a4\")\n",
    "right_pannel = html.find_all('div', class_=\"right__913e6006\")"
   ]
  },
  {
   "cell_type": "code",
   "execution_count": 37,
   "metadata": {},
   "outputs": [
    {
     "data": {
      "text/plain": [
       "[<div class=\"rowList__9489bc6c right__913e6006\"><div class=\"rowListItemWrap__4121c877\"><div><span class=\"fieldLabel__9f45bef7\"><span>1 Year Return</span></span><span class=\"fieldValue__2d582aa7\">33.17%</span></div></div><div class=\"rowListItemWrap__4121c877\"><div><span class=\"fieldLabel__9f45bef7\"><span>30 Day Avg Volume</span></span><span class=\"fieldValue__2d582aa7\">63,535,448</span></div></div><div class=\"rowListItemWrap__4121c877\"><div><span class=\"fieldLabel__9f45bef7\"><span>EPS</span></span><span class=\"fieldValue__2d582aa7\">12.65</span></div></div><div class=\"rowListItemWrap__4121c877\"><div><span class=\"fieldLabel__9f45bef7\"><span>Dividend</span></span><span class=\"fieldValue__2d582aa7\">1.25%</span></div></div><div class=\"rowListItemWrap__4121c877\"><div><span class=\"fieldLabel__9f45bef7\"><span>Last Dividend Reported</span></span><span class=\"fieldValue__2d582aa7\">0.77</span></div></div></div>]"
      ]
     },
     "execution_count": 37,
     "metadata": {},
     "output_type": "execute_result"
    }
   ],
   "source": [
    "right_pannel"
   ]
  },
  {
   "cell_type": "code",
   "execution_count": 41,
   "metadata": {},
   "outputs": [],
   "source": [
    "left_rows = left_pannel[0].find_all('div', class_=\"rowListItemWrap__4121c877\")\n",
    "right_rows = right_pannel[0].find_all('div', class_=\"rowListItemWrap__4121c877\")"
   ]
  },
  {
   "cell_type": "code",
   "execution_count": 60,
   "metadata": {},
   "outputs": [],
   "source": [
    "labels = []\n",
    "values = []\n",
    "units = []\n",
    "for row in left_rows + right_rows:\n",
    "    label = row.find('span', class_=\"fieldLabel__9f45bef7\").find('span')\n",
    "    value = row.find('span', class_=\"fieldValue__2d582aa7\")\n",
    "    if \"%\" in value.text:\n",
    "        value = value.text.replace('%', '')\n",
    "        units.append('Percents')\n",
    "    elif 'B' in value.text:\n",
    "        value = value.text.replace('B', '')\n",
    "        units.append('B')\n",
    "    else:\n",
    "        value = value.text\n",
    "        units.append(None)\n",
    "    labels.append(label.text)\n",
    "    values.append(value.replace(',',''))"
   ]
  },
  {
   "cell_type": "code",
   "execution_count": 63,
   "metadata": {},
   "outputs": [
    {
     "data": {
      "text/plain": [
       "[None, None, 'B', None, None, 'Percents', None, None, 'Percents', None]"
      ]
     },
     "execution_count": 63,
     "metadata": {},
     "output_type": "execute_result"
    }
   ],
   "source": [
    "units"
   ]
  },
  {
   "cell_type": "code",
   "execution_count": 68,
   "metadata": {},
   "outputs": [],
   "source": [
    "stock_data = pd.DataFrame(index=labels, data=zip(values, units), columns=['Values', 'Units'])"
   ]
  },
  {
   "cell_type": "code",
   "execution_count": 73,
   "metadata": {},
   "outputs": [],
   "source": [
    "stock_data.index.name = 'Label'"
   ]
  },
  {
   "cell_type": "code",
   "execution_count": 75,
   "metadata": {},
   "outputs": [
    {
     "data": {
      "text/html": [
       "<div>\n",
       "<style scoped>\n",
       "    .dataframe tbody tr th:only-of-type {\n",
       "        vertical-align: middle;\n",
       "    }\n",
       "\n",
       "    .dataframe tbody tr th {\n",
       "        vertical-align: top;\n",
       "    }\n",
       "\n",
       "    .dataframe thead th {\n",
       "        text-align: right;\n",
       "    }\n",
       "</style>\n",
       "<table border=\"1\" class=\"dataframe\">\n",
       "  <thead>\n",
       "    <tr style=\"text-align: right;\">\n",
       "      <th></th>\n",
       "      <th>Values</th>\n",
       "      <th>Units</th>\n",
       "    </tr>\n",
       "    <tr>\n",
       "      <th>Label</th>\n",
       "      <th></th>\n",
       "      <th></th>\n",
       "    </tr>\n",
       "  </thead>\n",
       "  <tbody>\n",
       "    <tr>\n",
       "      <th>P/E Ratio</th>\n",
       "      <td>19.40</td>\n",
       "      <td>None</td>\n",
       "    </tr>\n",
       "    <tr>\n",
       "      <th>PEGY Ratio</th>\n",
       "      <td>1.4674</td>\n",
       "      <td>None</td>\n",
       "    </tr>\n",
       "    <tr>\n",
       "      <th>Shares Outstanding</th>\n",
       "      <td>4.38</td>\n",
       "      <td>B</td>\n",
       "    </tr>\n",
       "    <tr>\n",
       "      <th>Price to Book Ratio</th>\n",
       "      <td>12.0248</td>\n",
       "      <td>None</td>\n",
       "    </tr>\n",
       "    <tr>\n",
       "      <th>Price to Sales Ratio</th>\n",
       "      <td>4.1444</td>\n",
       "      <td>None</td>\n",
       "    </tr>\n",
       "    <tr>\n",
       "      <th>1 Year Return</th>\n",
       "      <td>33.17</td>\n",
       "      <td>Percents</td>\n",
       "    </tr>\n",
       "    <tr>\n",
       "      <th>30 Day Avg Volume</th>\n",
       "      <td>63535448</td>\n",
       "      <td>None</td>\n",
       "    </tr>\n",
       "    <tr>\n",
       "      <th>EPS</th>\n",
       "      <td>12.65</td>\n",
       "      <td>None</td>\n",
       "    </tr>\n",
       "    <tr>\n",
       "      <th>Dividend</th>\n",
       "      <td>1.25</td>\n",
       "      <td>Percents</td>\n",
       "    </tr>\n",
       "    <tr>\n",
       "      <th>Last Dividend Reported</th>\n",
       "      <td>0.77</td>\n",
       "      <td>None</td>\n",
       "    </tr>\n",
       "  </tbody>\n",
       "</table>\n",
       "</div>"
      ],
      "text/plain": [
       "                          Values     Units\n",
       "Label                                     \n",
       "P/E Ratio                  19.40      None\n",
       "PEGY Ratio                1.4674      None\n",
       "Shares Outstanding          4.38         B\n",
       "Price to Book Ratio      12.0248      None\n",
       "Price to Sales Ratio      4.1444      None\n",
       "1 Year Return              33.17  Percents\n",
       "30 Day Avg Volume       63535448      None\n",
       "EPS                        12.65      None\n",
       "Dividend                    1.25  Percents\n",
       "Last Dividend Reported      0.77      None"
      ]
     },
     "execution_count": 75,
     "metadata": {},
     "output_type": "execute_result"
    }
   ],
   "source": [
    "stock_data"
   ]
  },
  {
   "cell_type": "code",
   "execution_count": 78,
   "metadata": {},
   "outputs": [],
   "source": [
    "assert list(stock_data.index) == ['P/E Ratio',\n",
    " 'PEGY Ratio',\n",
    " 'Shares Outstanding',\n",
    " 'Price to Book Ratio',\n",
    " 'Price to Sales Ratio',\n",
    " '1 Year Return',\n",
    " '30 Day Avg Volume',\n",
    " 'EPS',\n",
    " 'Dividend',\n",
    " 'Last Dividend Reported']"
   ]
  },
  {
   "cell_type": "code",
   "execution_count": null,
   "metadata": {},
   "outputs": [],
   "source": []
  }
 ],
 "metadata": {
  "kernelspec": {
   "display_name": "Python 3",
   "language": "python",
   "name": "python3"
  },
  "language_info": {
   "codemirror_mode": {
    "name": "ipython",
    "version": 3
   },
   "file_extension": ".py",
   "mimetype": "text/x-python",
   "name": "python",
   "nbconvert_exporter": "python",
   "pygments_lexer": "ipython3",
   "version": "3.6.5"
  }
 },
 "nbformat": 4,
 "nbformat_minor": 4
}
